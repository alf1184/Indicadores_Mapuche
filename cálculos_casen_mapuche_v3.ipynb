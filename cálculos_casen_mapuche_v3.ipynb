{
 "cells": [
  {
   "cell_type": "markdown",
   "id": "fbc7b48f",
   "metadata": {},
   "source": [
    "### Importando paquetes y cargando Bases"
   ]
  },
  {
   "cell_type": "code",
   "execution_count": 1,
   "id": "dec91b48",
   "metadata": {},
   "outputs": [],
   "source": [
    "import pandas as pd\n",
    "import numpy as np\n",
    "import os\n",
    "import weightedstats as ws\n",
    "\n",
    "import warnings\n",
    "warnings.filterwarnings(\"ignore\")"
   ]
  },
  {
   "cell_type": "code",
   "execution_count": 2,
   "id": "ef21aac1",
   "metadata": {},
   "outputs": [],
   "source": [
    "tar = os.chdir(r\"C:\\Users\\alfre\\OneDrive\\Documentos\\SIR\\Mapuches\\Data\")"
   ]
  },
  {
   "cell_type": "code",
   "execution_count": 3,
   "id": "09824727",
   "metadata": {},
   "outputs": [],
   "source": [
    "# Cargando CASEN\n",
    "\n",
    "df_casen_09 = pd.read_stata('2009/casen_2009.dta', convert_categoricals = False)\n",
    "\n",
    "df_casen_11 = pd.read_stata('2011/casen_2011.dta', convert_categoricals = False)\n",
    "df_casen_11 = df_casen_11.rename(columns = {'ck1': 'o'})\n",
    "\n",
    "df_casen_13 = pd.read_stata('2013/casen_2013_mn_b_principal.dta', convert_categoricals = False)\n",
    "df_casen_15 = pd.read_stata('2015/casen_2015.dta', convert_categoricals = False)\n",
    "df_casen_17 = pd.read_stata('2017/casen_2017.dta', convert_categoricals = False)\n",
    "df_casen_20 = pd.read_stata('2017/casen_2017.dta', convert_categoricals = False)"
   ]
  },
  {
   "cell_type": "code",
   "execution_count": 4,
   "id": "895bd003",
   "metadata": {},
   "outputs": [
    {
     "name": "stdout",
     "output_type": "stream",
     "text": [
      "    segmento  idviv  hogar    o      folio  region  provincia  comuna  zona  \\\n",
      "0        NaN    NaN    NaN  NaN                NaN        NaN     NaN   NaN   \n",
      "1  3102106.0  106.0    1.0  1.0  1000001-7     3.0       31.0  3102.0   1.0   \n",
      "2  3102106.0  106.0    1.0  2.0  1000001-7     3.0       31.0  3102.0   1.0   \n",
      "3  3102106.0  106.0    1.0  3.0  1000001-7     3.0       31.0  3102.0   1.0   \n",
      "4  3102106.0  106.0    1.0  4.0  1000001-7     3.0       31.0  3102.0   1.0   \n",
      "\n",
      "   estrato  ...  yaimhaj  yoautaj  yoauthaj  indmat  indsan  cviv  iai  iae  \\\n",
      "0      NaN  ...      NaN      NaN       NaN     NaN     NaN   NaN  NaN  NaN   \n",
      "1  31021.0  ...   4180.0      NaN       0.0     2.0     1.0   2.0  2.0  1.0   \n",
      "2  31021.0  ...   4180.0      NaN       0.0     2.0     1.0   2.0  2.0  1.0   \n",
      "3  31021.0  ...   4180.0      NaN       0.0     2.0     1.0   2.0  2.0  1.0   \n",
      "4  31021.0  ...   4180.0      NaN       0.0     2.0     1.0   2.0  2.0  1.0   \n",
      "\n",
      "   hacinami1  gradodis  \n",
      "0        NaN       NaN  \n",
      "1        3.0       6.0  \n",
      "2        3.0       6.0  \n",
      "3        3.0       6.0  \n",
      "4        3.0       6.0  \n",
      "\n",
      "[5 rows x 357 columns]\n"
     ]
    },
    {
     "data": {
      "text/html": [
       "<div>\n",
       "<style scoped>\n",
       "    .dataframe tbody tr th:only-of-type {\n",
       "        vertical-align: middle;\n",
       "    }\n",
       "\n",
       "    .dataframe tbody tr th {\n",
       "        vertical-align: top;\n",
       "    }\n",
       "\n",
       "    .dataframe thead th {\n",
       "        text-align: right;\n",
       "    }\n",
       "</style>\n",
       "<table border=\"1\" class=\"dataframe\">\n",
       "  <thead>\n",
       "    <tr style=\"text-align: right;\">\n",
       "      <th></th>\n",
       "      <th>segmento</th>\n",
       "      <th>idviv</th>\n",
       "      <th>hogar</th>\n",
       "      <th>o</th>\n",
       "      <th>folio</th>\n",
       "      <th>region</th>\n",
       "      <th>provincia</th>\n",
       "      <th>comuna</th>\n",
       "      <th>zona</th>\n",
       "      <th>estrato</th>\n",
       "      <th>...</th>\n",
       "      <th>yaimhaj</th>\n",
       "      <th>yoautaj</th>\n",
       "      <th>yoauthaj</th>\n",
       "      <th>indmat</th>\n",
       "      <th>indsan</th>\n",
       "      <th>cviv</th>\n",
       "      <th>iai</th>\n",
       "      <th>iae</th>\n",
       "      <th>hacinami1</th>\n",
       "      <th>gradodis</th>\n",
       "    </tr>\n",
       "  </thead>\n",
       "  <tbody>\n",
       "    <tr>\n",
       "      <th>1</th>\n",
       "      <td>3102106.0</td>\n",
       "      <td>106.0</td>\n",
       "      <td>1.0</td>\n",
       "      <td>1.0</td>\n",
       "      <td>1000001-7</td>\n",
       "      <td>3.0</td>\n",
       "      <td>31.0</td>\n",
       "      <td>3102.0</td>\n",
       "      <td>1.0</td>\n",
       "      <td>31021.0</td>\n",
       "      <td>...</td>\n",
       "      <td>4180.0</td>\n",
       "      <td>NaN</td>\n",
       "      <td>0.0</td>\n",
       "      <td>2.0</td>\n",
       "      <td>1.0</td>\n",
       "      <td>2.0</td>\n",
       "      <td>2.0</td>\n",
       "      <td>1.0</td>\n",
       "      <td>3.0</td>\n",
       "      <td>6.0</td>\n",
       "    </tr>\n",
       "    <tr>\n",
       "      <th>2</th>\n",
       "      <td>3102106.0</td>\n",
       "      <td>106.0</td>\n",
       "      <td>1.0</td>\n",
       "      <td>2.0</td>\n",
       "      <td>1000001-7</td>\n",
       "      <td>3.0</td>\n",
       "      <td>31.0</td>\n",
       "      <td>3102.0</td>\n",
       "      <td>1.0</td>\n",
       "      <td>31021.0</td>\n",
       "      <td>...</td>\n",
       "      <td>4180.0</td>\n",
       "      <td>NaN</td>\n",
       "      <td>0.0</td>\n",
       "      <td>2.0</td>\n",
       "      <td>1.0</td>\n",
       "      <td>2.0</td>\n",
       "      <td>2.0</td>\n",
       "      <td>1.0</td>\n",
       "      <td>3.0</td>\n",
       "      <td>6.0</td>\n",
       "    </tr>\n",
       "    <tr>\n",
       "      <th>3</th>\n",
       "      <td>3102106.0</td>\n",
       "      <td>106.0</td>\n",
       "      <td>1.0</td>\n",
       "      <td>3.0</td>\n",
       "      <td>1000001-7</td>\n",
       "      <td>3.0</td>\n",
       "      <td>31.0</td>\n",
       "      <td>3102.0</td>\n",
       "      <td>1.0</td>\n",
       "      <td>31021.0</td>\n",
       "      <td>...</td>\n",
       "      <td>4180.0</td>\n",
       "      <td>NaN</td>\n",
       "      <td>0.0</td>\n",
       "      <td>2.0</td>\n",
       "      <td>1.0</td>\n",
       "      <td>2.0</td>\n",
       "      <td>2.0</td>\n",
       "      <td>1.0</td>\n",
       "      <td>3.0</td>\n",
       "      <td>6.0</td>\n",
       "    </tr>\n",
       "    <tr>\n",
       "      <th>4</th>\n",
       "      <td>3102106.0</td>\n",
       "      <td>106.0</td>\n",
       "      <td>1.0</td>\n",
       "      <td>4.0</td>\n",
       "      <td>1000001-7</td>\n",
       "      <td>3.0</td>\n",
       "      <td>31.0</td>\n",
       "      <td>3102.0</td>\n",
       "      <td>1.0</td>\n",
       "      <td>31021.0</td>\n",
       "      <td>...</td>\n",
       "      <td>4180.0</td>\n",
       "      <td>NaN</td>\n",
       "      <td>0.0</td>\n",
       "      <td>2.0</td>\n",
       "      <td>1.0</td>\n",
       "      <td>2.0</td>\n",
       "      <td>2.0</td>\n",
       "      <td>1.0</td>\n",
       "      <td>3.0</td>\n",
       "      <td>6.0</td>\n",
       "    </tr>\n",
       "    <tr>\n",
       "      <th>5</th>\n",
       "      <td>3102106.0</td>\n",
       "      <td>106.0</td>\n",
       "      <td>1.0</td>\n",
       "      <td>5.0</td>\n",
       "      <td>1000001-7</td>\n",
       "      <td>3.0</td>\n",
       "      <td>31.0</td>\n",
       "      <td>3102.0</td>\n",
       "      <td>1.0</td>\n",
       "      <td>31021.0</td>\n",
       "      <td>...</td>\n",
       "      <td>4180.0</td>\n",
       "      <td>NaN</td>\n",
       "      <td>0.0</td>\n",
       "      <td>2.0</td>\n",
       "      <td>1.0</td>\n",
       "      <td>2.0</td>\n",
       "      <td>2.0</td>\n",
       "      <td>1.0</td>\n",
       "      <td>3.0</td>\n",
       "      <td>6.0</td>\n",
       "    </tr>\n",
       "  </tbody>\n",
       "</table>\n",
       "<p>5 rows × 357 columns</p>\n",
       "</div>"
      ],
      "text/plain": [
       "    segmento  idviv  hogar    o      folio  region  provincia  comuna  zona  \\\n",
       "1  3102106.0  106.0    1.0  1.0  1000001-7     3.0       31.0  3102.0   1.0   \n",
       "2  3102106.0  106.0    1.0  2.0  1000001-7     3.0       31.0  3102.0   1.0   \n",
       "3  3102106.0  106.0    1.0  3.0  1000001-7     3.0       31.0  3102.0   1.0   \n",
       "4  3102106.0  106.0    1.0  4.0  1000001-7     3.0       31.0  3102.0   1.0   \n",
       "5  3102106.0  106.0    1.0  5.0  1000001-7     3.0       31.0  3102.0   1.0   \n",
       "\n",
       "   estrato  ...  yaimhaj  yoautaj  yoauthaj  indmat  indsan  cviv  iai  iae  \\\n",
       "1  31021.0  ...   4180.0      NaN       0.0     2.0     1.0   2.0  2.0  1.0   \n",
       "2  31021.0  ...   4180.0      NaN       0.0     2.0     1.0   2.0  2.0  1.0   \n",
       "3  31021.0  ...   4180.0      NaN       0.0     2.0     1.0   2.0  2.0  1.0   \n",
       "4  31021.0  ...   4180.0      NaN       0.0     2.0     1.0   2.0  2.0  1.0   \n",
       "5  31021.0  ...   4180.0      NaN       0.0     2.0     1.0   2.0  2.0  1.0   \n",
       "\n",
       "   hacinami1  gradodis  \n",
       "1        3.0       6.0  \n",
       "2        3.0       6.0  \n",
       "3        3.0       6.0  \n",
       "4        3.0       6.0  \n",
       "5        3.0       6.0  \n",
       "\n",
       "[5 rows x 357 columns]"
      ]
     },
     "execution_count": 4,
     "metadata": {},
     "output_type": "execute_result"
    }
   ],
   "source": [
    "# Chequeando df's\n",
    "print(df_casen_09.head())\n",
    "\n",
    "# Nótese que la primera fila esta vacia, hay que eliminarla:\n",
    "df_casen_09 = df_casen_09.drop([df_casen_09.index[0]])\n",
    "df_casen_09.head()"
   ]
  },
  {
   "cell_type": "code",
   "execution_count": 5,
   "id": "298435ea",
   "metadata": {},
   "outputs": [],
   "source": [
    "# Cargando nuevos factores de expansión\n",
    "# Cómo se hace el merge?\n",
    "df_n_fact_exp_09 = pd.read_stata('2009/Casen2009_factorCenso2017_Nueva Metodología calibración STATA.dta')\n",
    "df_n_fact_exp_11 = pd.read_stata('2011/Casen2011_factorCenso2017_Nueva Metodología calibración STATA.dta')\n",
    "df_n_fact_exp_13 = pd.read_stata('2013/Casen2013_factorCenso2017_Nueva Metodología calibración STATA.dta')\n",
    "df_n_fact_exp_15 = pd.read_stata('2015/Casen2015_factorCenso2017_Nueva Metodología calibración STATA.dta')\n",
    "df_n_fact_exp_17 = pd.read_stata('2017/Casen2017_factorCenso2017_Nueva Metodología calibración STATA.dta')\n",
    "df_n_fact_exp_20 = pd.read_stata('2020/Casen2020_factorCenso2017_Nueva Metodología calibración STATA.dta')"
   ]
  },
  {
   "cell_type": "code",
   "execution_count": 6,
   "id": "85b27be8",
   "metadata": {},
   "outputs": [],
   "source": [
    "# Mergeando factores de expansión 09\n",
    "\n",
    "df_casen_09 = df_casen_09.sort_values(by=['segmento', 'idviv', 'hogar', 'o'])\n",
    "df_casen_09 = pd.merge(df_casen_09, df_n_fact_exp_09, left_index=True, right_index=True, suffixes=('_casen', '_comp'))"
   ]
  },
  {
   "cell_type": "code",
   "execution_count": 7,
   "id": "c5878050",
   "metadata": {},
   "outputs": [
    {
     "data": {
      "text/plain": [
       "Index(['segmento', 'idviv', 'hogar', 'o', 'folio', 'region', 'provincia',\n",
       "       'comuna', 'zona', 'estrato',\n",
       "       ...\n",
       "       'iai', 'iae', 'hacinami1', 'gradodis', 'segmento_comp', 'idviv_comp',\n",
       "       'hogar_comp', 'o_comp', 'folio_comp', 'expr_C2017_NM'],\n",
       "      dtype='object', length=363)"
      ]
     },
     "execution_count": 7,
     "metadata": {},
     "output_type": "execute_result"
    }
   ],
   "source": [
    "df_casen_09 =  df_casen_09.rename(columns = {\n",
    "    'segmento_casen': 'segmento', \n",
    "    'idviv_casen': 'idviv', \n",
    "    'hogar_casen': 'hogar',\n",
    "    'folio_casen': 'folio',\n",
    "    'o_casen': 'o'\n",
    "})\n",
    "df_casen_09.columns"
   ]
  },
  {
   "cell_type": "code",
   "execution_count": 8,
   "id": "d3545027",
   "metadata": {},
   "outputs": [],
   "source": [
    "# Mergeando nuevos factores de expansión por folio y o\n",
    "# Casen 2009 no se mergea porque folios tienen distinto formato.\n",
    "\n",
    "df_casen_11 = df_casen_11.merge(df_n_fact_exp_11, on=[\"folio\", \"o\"])\n",
    "df_casen_13 = df_casen_13.merge(df_n_fact_exp_13, on=[\"folio\", \"o\"])\n",
    "df_casen_15 = df_casen_15.merge(df_n_fact_exp_15, on=[\"folio\", \"o\"])\n",
    "df_casen_17 = df_casen_17.merge(df_n_fact_exp_17, on=[\"folio\", \"o\"])\n",
    "df_casen_20 = df_casen_20.merge(df_n_fact_exp_20, on=[\"folio\", \"o\"])"
   ]
  },
  {
   "cell_type": "code",
   "execution_count": 9,
   "id": "9565970c",
   "metadata": {
    "scrolled": false
   },
   "outputs": [],
   "source": [
    "# Cargando encuestas complementarias de ingreso\n",
    "\n",
    "df_comp_y_09 = pd.read_stata('2009/ingresos_mn_2009.dta')\n",
    "df_comp_y_11 = pd.read_stata('2011/ingresos_mn_2011.dta')\n",
    "df_comp_y_13 = pd.read_stata('2013/BD_Complementaria_de_Ingresos_Metodologia_Historica_Casen2013.dta')\n",
    "df_comp_y_15 = pd.read_stata('2015/BD Complementaria de Ingresos Metodología Historica Casen 2015.dta')\n",
    "df_comp_y_17 = pd.read_stata('2017/BD Complementaria de Ingresos Metodología Historica Casen 2017.dta')"
   ]
  },
  {
   "cell_type": "markdown",
   "id": "12e87cb9",
   "metadata": {},
   "source": [
    "### Qué hacemos con las nuevas regiones?"
   ]
  },
  {
   "cell_type": "code",
   "execution_count": 10,
   "id": "e6aca068",
   "metadata": {},
   "outputs": [],
   "source": [
    "# Es necesario estandarizar las regiones. Lo hago por comunas?\n",
    "# Estandarizar nombre de columna de etnia.\n",
    "# df_casen_11.zona.value_counts()"
   ]
  },
  {
   "cell_type": "markdown",
   "id": "9e691eb9",
   "metadata": {},
   "source": [
    "### Qué aportan las encuestas complementarias de ingreso?"
   ]
  },
  {
   "cell_type": "code",
   "execution_count": 11,
   "id": "93ca7363",
   "metadata": {},
   "outputs": [
    {
     "name": "stdout",
     "output_type": "stream",
     "text": [
      "columnas 17:  Index(['folio', 'o', 'id_vivienda', 'hogar', 'region', 'provincia', 'comuna',\n",
      "       'zona', 'expr', 'expc',\n",
      "       ...\n",
      "       'hh_d_servbas', 'hh_d_entorno', 'hh_d_accesi', 'hh_d_medio',\n",
      "       'hh_d_appart', 'hh_d_tsocial', 'hh_d_seg', 'pobreza_multi_4d',\n",
      "       'pobreza_multi_5d', 'expr_C2017_NM'],\n",
      "      dtype='object', length=805)\n",
      "columnas 17 ingreso:  Index(['folio', 'o', 'y0101c_mh', 'y0701c_mh', 'y260201c_mh', 'y2603c_mh',\n",
      "       'yautcor_mh', 'ytotcor_mh', 'y0101ch_mh', 'y0701ch_mh',\n",
      "       ...\n",
      "       'ytothaj1_mh', 'ypcaj1_mh', 'lpe1_mh', 'lp1_mh', 'pobreza1_mh',\n",
      "       'ytothaj2_mh', 'ypcaj2_mh', 'lpe2_mh', 'lp2_mh', 'pobreza2_mh'],\n",
      "      dtype='object', length=195)\n",
      "Duplicated columns: {'o', 'folio'}\n"
     ]
    }
   ],
   "source": [
    "# Encontrando columnas duplicadas antes del merge con la encuesta complementaria\n",
    "\n",
    "# Set the display.max_columns option to None\n",
    "pd.set_option('display.max_columns', None)\n",
    "\n",
    "print('columnas 17: ', df_casen_17.columns)\n",
    "print('columnas 17 ingreso: ', df_comp_y_17.columns)\n",
    "\n",
    "# Find the set intersection of column names\n",
    "duplicate_cols = set(df_casen_17.columns) & set(df_comp_y_17.columns)\n",
    "\n",
    "# Print the list of duplicated column names\n",
    "print(\"Duplicated columns:\", duplicate_cols)"
   ]
  },
  {
   "cell_type": "code",
   "execution_count": 12,
   "id": "e18623ee",
   "metadata": {},
   "outputs": [],
   "source": [
    "# Mergeando simplemente por el índice porque comp_y solo ocupa el índice!\n",
    "df_casen_09 = pd.merge(df_casen_09, df_comp_y_09, left_index=True, right_index=True, suffixes=('_casen', '_comp'))\n",
    "df_casen_09 =  df_casen_09.rename(columns = {\n",
    "    'segmento_casen': 'segmento', \n",
    "    'idviv_casen': 'idviv', \n",
    "    'hogar_casen': 'hogar', \n",
    "    'o_casen': 'o'\n",
    "})\n",
    "\n",
    "# Mergeando por folio y o\n",
    "df_casen_11 = df_casen_11.merge(df_comp_y_11, on=[\"folio\", \"o\"])\n",
    "df_casen_13 = df_casen_13.merge(df_comp_y_13, on=[\"folio\", \"o\"])\n",
    "df_casen_15 = df_casen_15.merge(df_comp_y_15, on=[\"folio\", \"o\"])\n",
    "df_casen_17 = df_casen_17.merge(df_comp_y_17, on=[\"folio\", \"o\"])"
   ]
  },
  {
   "cell_type": "code",
   "execution_count": 13,
   "id": "626cff4d",
   "metadata": {},
   "outputs": [
    {
     "name": "stdout",
     "output_type": "stream",
     "text": [
      "columnas 17:  Index(['folio', 'o', 'id_vivienda', 'hogar', 'region', 'provincia', 'comuna',\n",
      "       'zona', 'expr', 'expc',\n",
      "       ...\n",
      "       'ytothaj1_mh', 'ypcaj1_mh', 'lpe1_mh', 'lp1_mh', 'pobreza1_mh',\n",
      "       'ytothaj2_mh', 'ypcaj2_mh', 'lpe2_mh', 'lp2_mh', 'pobreza2_mh'],\n",
      "      dtype='object', length=998)\n"
     ]
    }
   ],
   "source": [
    "print('columnas 17: ', df_casen_17.columns)"
   ]
  },
  {
   "cell_type": "code",
   "execution_count": 14,
   "id": "1af4cf6c",
   "metadata": {
    "scrolled": true
   },
   "outputs": [
    {
     "data": {
      "text/plain": [
       "20             NaN\n",
       "21             NaN\n",
       "22        619000.0\n",
       "75             NaN\n",
       "76             NaN\n",
       "            ...   \n",
       "223901         NaN\n",
       "223902     30000.0\n",
       "223903         NaN\n",
       "223904         NaN\n",
       "223905    140000.0\n",
       "Name: ytrabajocor, Length: 246923, dtype: float64"
      ]
     },
     "execution_count": 14,
     "metadata": {},
     "output_type": "execute_result"
    }
   ],
   "source": [
    "df_casen_09.ytrabajocor"
   ]
  },
  {
   "cell_type": "markdown",
   "id": "695a88f4",
   "metadata": {},
   "source": [
    "### Asociando df's a nombres clave"
   ]
  },
  {
   "cell_type": "code",
   "execution_count": 15,
   "id": "bd757441",
   "metadata": {},
   "outputs": [],
   "source": [
    "dict_casen_año = {\n",
    "    'df_casen_09': '2009',\n",
    "    'df_casen_11': '2011',\n",
    "    'df_casen_13': '2013',\n",
    "    'df_casen_15': '2015',\n",
    "    'df_casen_17': '2017',\n",
    "    'df_casen_20': '2020'\n",
    "}\n",
    "\n",
    "# Hay que revisar muy bien esto\n",
    "\n",
    "dict_casen_y = {\n",
    "    'df_casen_09': 'ytotcorh',\n",
    "    'df_casen_11': 'ytotcorh',\n",
    "    'df_casen_13': 'ytotcorh',\n",
    "    'df_casen_15': 'ytotcorh',\n",
    "    'df_casen_17': 'ytotcorh',\n",
    "    'df_casen_20': 'ytotcorh'\n",
    "}\n",
    "\n",
    "dict_casen_yt = {\n",
    "    'df_casen_09': 'ytrabajocor',\n",
    "    'df_casen_11': 'ytrabajocor',\n",
    "    'df_casen_13': 'ytrabajocor',\n",
    "    'df_casen_15': 'ytrabajocor',\n",
    "    'df_casen_17': 'ytrabajocor',\n",
    "    'df_casen_20': 'ytrabajocor'\n",
    "}\n",
    "\n",
    "dict_casen_m = {\n",
    "    'df_casen_09': 't5',\n",
    "    'df_casen_11': 'r6',\n",
    "    'df_casen_13': 'r6',\n",
    "    'df_casen_15': 'r3',\n",
    "    'df_casen_17': 'r3',\n",
    "    'df_casen_20': 'r3'\n",
    "}\n",
    "\n",
    "dict_casen_exp = {\n",
    "    'df_casen_09': 'expr_C2017_NM',\n",
    "    'df_casen_11': 'expr_C2017_NM',\n",
    "    'df_casen_13': 'expr_C2017_NM',\n",
    "    'df_casen_15': 'expr_C2017_NM',\n",
    "    'df_casen_17': 'expr_C2017_NM',\n",
    "    'df_casen_20': 'expr_C2017_NM'\n",
    "}\n",
    "\n",
    "\n",
    "dict_casen_pob = {\n",
    "    'df_casen_13': 'pobreza_mn',\n",
    "    'df_casen_15': 'pobreza',\n",
    "    'df_casen_17': 'pobreza',\n",
    "    'df_casen_20': 'pobreza'\n",
    "}\n",
    "\n",
    "# Expresado en pesos de marzo de 2023 \n",
    "\n",
    "dict_inflactor = {\n",
    "    'df_casen_09': 1.722, # realizada entre noviembre y diciembre 2009\n",
    "    'df_casen_11': 1.616,\n",
    "    'df_casen_13': 1.545,\n",
    "    'df_casen_15': 1.406, # realizada entre noviembre, diciembre y enero\n",
    "    'df_casen_17': 1.341,\n",
    "    'df_casen_20': 1.235 #realziado octubre a diciemnbre\n",
    "}"
   ]
  },
  {
   "cell_type": "markdown",
   "id": "fd963d6c",
   "metadata": {},
   "source": [
    "### Arreglando Nivel Educacional"
   ]
  },
  {
   "cell_type": "code",
   "execution_count": 16,
   "id": "d4536a55",
   "metadata": {},
   "outputs": [
    {
     "data": {
      "text/plain": [
       "'\\nNivel Educacional\\n\\n0: Nulo\\n1: Pre-escolar\\n2: Básica\\n3: Media\\n4: Técnico Superior\\n5: Profesional\\n6: Posgrado\\n\\nNota: Técnico incompleto equivale a media; Posgrado incompleto equivale a profesional\\n'"
      ]
     },
     "execution_count": 16,
     "metadata": {},
     "output_type": "execute_result"
    }
   ],
   "source": [
    "'''\n",
    "Nivel Educacional\n",
    "\n",
    "0: Nulo\n",
    "1: Pre-escolar\n",
    "2: Básica\n",
    "3: Media\n",
    "4: Técnico Superior\n",
    "5: Profesional\n",
    "6: Posgrado\n",
    "\n",
    "Nota: Técnico incompleto equivale a media; Posgrado incompleto equivale a profesional\n",
    "'''"
   ]
  },
  {
   "cell_type": "code",
   "execution_count": 17,
   "id": "d91dbcf3",
   "metadata": {
    "scrolled": true
   },
   "outputs": [
    {
     "data": {
      "text/plain": [
       "6     55370\n",
       "8     52776\n",
       "12    20626\n",
       "10    16197\n",
       "1     14276\n",
       "5     13839\n",
       "11     9591\n",
       "7      5736\n",
       "2      4658\n",
       "3      4341\n",
       "9      1305\n",
       "4       900\n",
       "13      687\n",
       "Name: e6a, dtype: int64"
      ]
     },
     "execution_count": 17,
     "metadata": {},
     "output_type": "execute_result"
    }
   ],
   "source": [
    "df_casen_11.e6a.value_counts()"
   ]
  },
  {
   "cell_type": "code",
   "execution_count": 18,
   "id": "6b139d75",
   "metadata": {},
   "outputs": [],
   "source": [
    "for df in (df_casen_11, df_casen_13):\n",
    "    conditions = [\n",
    "        (df['e6a'] == 1),\n",
    "        (df['e6a'].isin([2, 3, 4])),\n",
    "        (df['e6a'].isin([5, 6])),\n",
    "        (df['e6a'].isin([7, 8, 9, 10])),\n",
    "        (df['e6a'] == 11),\n",
    "        (df['e6a'] == 12),\n",
    "        (df['e6a'] == 3),\n",
    "    ]\n",
    "    values = [0, 1, 2, 3, 4, 5, 6]\n",
    "    df['nivel_educacional'] = np.select(conditions, values)"
   ]
  },
  {
   "cell_type": "code",
   "execution_count": 19,
   "id": "e0c9db6b",
   "metadata": {},
   "outputs": [
    {
     "data": {
      "text/plain": [
       "3    76014\n",
       "2    69209\n",
       "5    20626\n",
       "0    14963\n",
       "1     9899\n",
       "4     9591\n",
       "Name: nivel_educacional, dtype: int64"
      ]
     },
     "execution_count": 19,
     "metadata": {},
     "output_type": "execute_result"
    }
   ],
   "source": [
    "df_casen_11.nivel_educacional.value_counts()\n",
    "\n",
    "#Ok, está funcionando"
   ]
  },
  {
   "cell_type": "code",
   "execution_count": 20,
   "id": "44303117",
   "metadata": {},
   "outputs": [],
   "source": [
    "for df in (df_casen_15, df_casen_17, df_casen_20):\n",
    "    conditions = [\n",
    "        (df['e6a'] == 1),\n",
    "        (df['e6a'].isin([2, 3, 4, 5])),\n",
    "        (df['e6a'].isin([6, 7])),\n",
    "        (df['e6a'].isin([8, 9, 10, 11, 12, 14])),\n",
    "        (df['e6a'] == 13),\n",
    "        (df['e6a'].isin([15, 16])),\n",
    "        (df['e6a'] == 17),\n",
    "    ]\n",
    "    values = [0, 1, 2, 3, 4, 5, 6]\n",
    "    df['nivel_educacional'] = np.select(conditions, values)"
   ]
  },
  {
   "cell_type": "markdown",
   "id": "5f6928e8",
   "metadata": {},
   "source": [
    "### Creando funciones necesarias"
   ]
  },
  {
   "cell_type": "code",
   "execution_count": 21,
   "id": "f0b99c05",
   "metadata": {},
   "outputs": [],
   "source": [
    "def get_household_members(df, id_hogar, member_number):\n",
    "    df['number_of_members'] = df.groupby(id_hogar)[member_number].transform('max')\n",
    "    return df['number_of_members']"
   ]
  },
  {
   "cell_type": "code",
   "execution_count": 22,
   "id": "910f1366",
   "metadata": {},
   "outputs": [],
   "source": [
    "#df_casen_09['etnia_jefe_hogar'] = df_casen_09.groupby('folio')['t5'].transform(lambda x: x[df_casen_09['o'] == 1].iloc[0])"
   ]
  },
  {
   "cell_type": "code",
   "execution_count": 23,
   "id": "4626c759",
   "metadata": {},
   "outputs": [],
   "source": [
    "def is_household_mapuche(df, id_hogar, member_number, mapuche_variable):\n",
    "    df['mapuche_count'] = df.groupby(id_hogar)[mapuche_variable].transform(lambda x: (x == 4).sum())\n",
    "    df['mapuche_percent'] = df['mapuche_count'] / df['number_of_members']\n",
    "    df['etnia_jefe_hogar'] = df.groupby(id_hogar)[mapuche_variable].transform(lambda x: x[df[member_number] == 1].iloc[0])\n",
    "    df['hogar_mapuche'] = 0\n",
    "    df.loc[(df['mapuche_percent'] >= 0.5) | (df['etnia_jefe_hogar'] == 4), 'hogar_mapuche'] = 1\n",
    "    return df['hogar_mapuche']"
   ]
  },
  {
   "cell_type": "code",
   "execution_count": 24,
   "id": "aad84c2e",
   "metadata": {},
   "outputs": [],
   "source": [
    "def calculate_native_percentage(df, native_column, weight_column):\n",
    "    # Create a new DataFrame containing only the region, native, and weight columns\n",
    "    region_native_weight = df[['region', native_column, weight_column]]\n",
    "    \n",
    "    # Convert the native column to a binary column indicating whether someone is native or not\n",
    "    region_native_weight['Native'] = region_native_weight[native_column] == 4\n",
    "    \n",
    "    # Multiply the native column by the weight column to get the weighted number of natives\n",
    "    region_native_weight['Weighted Native'] = region_native_weight['Native'] * region_native_weight[weight_column]\n",
    "    \n",
    "    # Group the data by region and calculate the sum of the weighted native column and weight column\n",
    "    native_weight_sum = region_native_weight.groupby('region').agg({'Weighted Native': 'sum', weight_column: 'sum'})\n",
    "    \n",
    "    # Divide the sum of the weighted native column by the sum of the weight column to get the weighted mean of the native column\n",
    "    native_mean = native_weight_sum['Weighted Native'] / native_weight_sum[weight_column]\n",
    "    \n",
    "    # Multiply the mean by 100 to get the percentage of natives\n",
    "    native_percentage = native_mean * 100\n",
    "    \n",
    "    # Rename the result to indicate that it contains percentages\n",
    "    native_percentage.name = 'Native Percentage'\n",
    "    \n",
    "    return native_percentage        "
   ]
  },
  {
   "cell_type": "code",
   "execution_count": 25,
   "id": "f0b04694",
   "metadata": {},
   "outputs": [],
   "source": [
    "def calculate_native_percentage_country(df, native_column, weight_column):\n",
    "    # Create a new DataFrame containing only the region, native, and weight columns\n",
    "    region_native_weight = df[['region', native_column, weight_column]]\n",
    "    \n",
    "    # Convert the native column to a binary column indicating whether someone is native or not\n",
    "    region_native_weight['Native'] = region_native_weight[native_column] == 4\n",
    "    \n",
    "    # Multiply the native column by the weight column to get the weighted number of natives\n",
    "    region_native_weight['Weighted Native'] = region_native_weight['Native'] * region_native_weight[weight_column]\n",
    "    \n",
    "    # Group the data by region and calculate the sum of the weighted native column and weight column\n",
    "    native_weight_sum = region_native_weight.groupby('region').agg({'Weighted Native': 'sum', weight_column: 'sum'})\n",
    "    \n",
    "    # Divide the sum of the weighted native column by the sum of the weight column to get the weighted mean of the native column\n",
    "    native_mean = native_weight_sum['Weighted Native'] / native_weight_sum['Weighted Native'].sum()\n",
    "    \n",
    "    # Multiply the mean by 100 to get the percentage of natives\n",
    "    native_percentage_country = native_mean * 100\n",
    "    \n",
    "    # Rename the result to indicate that it contains percentages\n",
    "    native_percentage_country.name = 'Native Percentage Country'\n",
    "    \n",
    "    return native_percentage_country      "
   ]
  },
  {
   "cell_type": "code",
   "execution_count": 26,
   "id": "a9b11de4",
   "metadata": {},
   "outputs": [],
   "source": [
    "def get_native_urban_rural(df, native_column, weight_column):\n",
    "    \n",
    "    # Create a new DataFrame containing only the region, native, and weight columns\n",
    "    native_and_zone = df[['zona', weight_column, native_column]].query(f'{native_column} == 4')\n",
    "    \n",
    "    data = []\n",
    "    \n",
    "    for zona, df in native_and_zone.groupby('zona'):\n",
    "        n = df[weight_column].sum()\n",
    "        row = [zona, n]\n",
    "        data.append(row)\n",
    "    col_header = ['Zona', 'N Total']\n",
    "    tabla = pd.DataFrame(data,\n",
    "                         columns = col_header\n",
    "                        )\n",
    "    return tabla"
   ]
  },
  {
   "cell_type": "code",
   "execution_count": 27,
   "id": "49396124",
   "metadata": {},
   "outputs": [],
   "source": [
    "def get_household_income(df, income, weight):\n",
    "    df_n = [k for k,v in globals().items() if v is df][0]\n",
    "    df['expanded_y'] = df[income]*df[weight]\n",
    "    total_y_m = df.query('hogar_mapuche == 1').query('o == 1')['expanded_y'].sum()\n",
    "    total_m = df.query('hogar_mapuche == 1')[weight].sum()\n",
    "    mean_y_m = round((total_y_m/total_m)*dict_inflactor[df_n], ndigits=0)\n",
    "    \n",
    "    total_y = df.query('hogar_mapuche == 0').query('o == 1')['expanded_y'].sum()\n",
    "    total = df.query('hogar_mapuche == 0')[weight].sum()\n",
    "    mean_y = round((total_y/total)*dict_inflactor[df_n], ndigits=0)\n",
    "    \n",
    "    return mean_y_m, mean_y"
   ]
  },
  {
   "cell_type": "code",
   "execution_count": 28,
   "id": "ef1c389a",
   "metadata": {},
   "outputs": [],
   "source": [
    "def get_labor_income(df):\n",
    "    '''\n",
    "    Considera solo el salario de inviduos mapuches y no mapuches que tienen ingresos del trabajo distintos a cero.\n",
    "    '''\n",
    "    df_n = [k for k,v in globals().items() if v is df][0]\n",
    "    df_t = df.query(f'{dict_casen_yt[df_n]} > 0').copy()\n",
    "    df_tm = df_t.query(f'{dict_casen_m[df_n]} == 4').copy()\n",
    "    df_tnm = df_t.query(f'{dict_casen_m[df_n]} != 4').copy()\n",
    "    y_tm = (df_tm[dict_casen_yt[df_n]]*df_tm[dict_casen_exp[df_n]]).sum()/df_tm[dict_casen_exp[df_n]].sum()\n",
    "    y_tnm = (df_tnm[dict_casen_yt[df_n]]*df_tnm[dict_casen_exp[df_n]]).sum()/df_tnm[dict_casen_exp[df_n]].sum()\n",
    "    y_tm = y_tm*dict_inflactor[df_n]\n",
    "    y_tnm = y_tnm*dict_inflactor[df_n]\n",
    "    y_tm = round(y_tm, ndigits = 0)\n",
    "    y_tnm = round(y_tnm, ndigits = 0)\n",
    "    row = [dict_casen_año[df_n], y_tm, y_tnm]\n",
    "    return row"
   ]
  },
  {
   "cell_type": "code",
   "execution_count": 29,
   "id": "fbfab931",
   "metadata": {},
   "outputs": [],
   "source": [
    "def get_weighted_median(df, val, weight):\n",
    "    df_sorted = df.sort_values(val)\n",
    "    cumsum = df_sorted[weight].cumsum()\n",
    "    cutoff = df_sorted[weight].sum() / 2.\n",
    "    return df_sorted[cumsum >= cutoff][val].iloc[0]"
   ]
  },
  {
   "cell_type": "code",
   "execution_count": 30,
   "id": "f93263ad",
   "metadata": {},
   "outputs": [],
   "source": [
    "def get_median_labor_income(df):\n",
    "    '''\n",
    "    Considera solo el salario de inviduos mapuches y no mapuches que tienen ingresos del trabajo distintos a cero.\n",
    "    '''\n",
    "    df_n = [k for k,v in globals().items() if v is df][0]\n",
    "    df_t = df.query(f'{dict_casen_yt[df_n]} > 0').copy()\n",
    "    df_tm = df_t.query(f'{dict_casen_m[df_n]} == 4').copy()\n",
    "    df_tnm = df_t.query(f'{dict_casen_m[df_n]} != 4').copy()\n",
    "    median_yt_m = get_weighted_median(df_tm, dict_casen_yt[df_n], dict_casen_exp[df_n])\n",
    "    median_yt_nm = get_weighted_median(df_tnm, dict_casen_yt[df_n], dict_casen_exp[df_n])\n",
    "    median_yt_m = median_yt_m*dict_inflactor[df_n]\n",
    "    median_yt_nm = median_yt_nm*dict_inflactor[df_n]\n",
    "    row = [dict_casen_año[df_n], median_yt_m, median_yt_nm]\n",
    "    return row                                                                              "
   ]
  },
  {
   "cell_type": "code",
   "execution_count": 31,
   "id": "97201e37",
   "metadata": {},
   "outputs": [],
   "source": [
    "def get_median_labor_income_by_sex(df):\n",
    "    '''\n",
    "    Considera solo el salario de inviduos mapuches y no mapuches que tienen ingresos del trabajo distintos a cero.\n",
    "    '''\n",
    "    df_n = [k for k,v in globals().items() if v is df][0]\n",
    "    df_t = df.query(f'{dict_casen_yt[df_n]} > 0').copy()\n",
    "    \n",
    "    df_tm_h = df_t.query(f'{dict_casen_m[df_n]} == 4 & sexo == 1').copy()\n",
    "    df_tm_m = df_t.query(f'{dict_casen_m[df_n]} == 4 & sexo == 2').copy()\n",
    "    df_tnm_h = df_t.query(f'{dict_casen_m[df_n]} != 4 & sexo == 1').copy()\n",
    "    df_tnm_m = df_t.query(f'{dict_casen_m[df_n]} != 4 & sexo == 2').copy()    \n",
    "    \n",
    "    median_yt_m_h = get_weighted_median(df_tm_h, dict_casen_yt[df_n], dict_casen_exp[df_n])\n",
    "    median_yt_m_m = get_weighted_median(df_tm_m, dict_casen_yt[df_n], dict_casen_exp[df_n])\n",
    "    median_yt_nm_h = get_weighted_median(df_tnm_h, dict_casen_yt[df_n], dict_casen_exp[df_n])\n",
    "    median_yt_nm_m = get_weighted_median(df_tnm_m, dict_casen_yt[df_n], dict_casen_exp[df_n])    \n",
    "    \n",
    "    median_yt_m_h = median_yt_m_h*dict_inflactor[df_n]\n",
    "    median_yt_m_m = median_yt_m_m*dict_inflactor[df_n]\n",
    "    median_yt_nm_h = median_yt_nm_h*dict_inflactor[df_n]\n",
    "    median_yt_nm_m = median_yt_nm_m*dict_inflactor[df_n]    \n",
    "    \n",
    "    \n",
    "    row = [dict_casen_año[df_n], median_yt_m_h,  median_yt_m_m, median_yt_nm_h, median_yt_nm_m]\n",
    "    return row      "
   ]
  },
  {
   "cell_type": "code",
   "execution_count": 32,
   "id": "6f630eed",
   "metadata": {},
   "outputs": [],
   "source": [
    "def get_labor_income_by_sex(df):\n",
    "    '''\n",
    "    Considera solo el salario de inviduos mapuches y no mapuches que tienen ingresos del trabajo distintos a cero.\n",
    "    '''\n",
    "    df_n = [k for k,v in globals().items() if v is df][0]\n",
    "    df_t = df.query(f'{dict_casen_yt[df_n]} > 0').copy()\n",
    "\n",
    "    df_tm_h = df_t.query(f'{dict_casen_m[df_n]} == 4 & sexo == 1').copy()    \n",
    "    df_tm_m = df_t.query(f'{dict_casen_m[df_n]} == 4 & sexo == 2').copy()\n",
    "    df_tnm_h = df_t.query(f'{dict_casen_m[df_n]} != 4 & sexo == 1').copy()\n",
    "    df_tnm_m = df_t.query(f'{dict_casen_m[df_n]} != 4 & sexo == 2').copy()    \n",
    "    \n",
    "    y_tm_h = (df_tm_h[dict_casen_yt[df_n]]*df_tm_h[dict_casen_exp[df_n]]).sum()/df_tm_h[dict_casen_exp[df_n]].sum()    \n",
    "    y_tm_m = (df_tm_m[dict_casen_yt[df_n]]*df_tm_m[dict_casen_exp[df_n]]).sum()/df_tm_m[dict_casen_exp[df_n]].sum()     \n",
    "    y_tnm_h = (df_tnm_h[dict_casen_yt[df_n]]*df_tnm_h[dict_casen_exp[df_n]]).sum()/df_tnm_h[dict_casen_exp[df_n]].sum()    \n",
    "    y_tnm_m = (df_tnm_m[dict_casen_yt[df_n]]*df_tnm_m[dict_casen_exp[df_n]]).sum()/df_tnm_m[dict_casen_exp[df_n]].sum()     \n",
    "    \n",
    "    y_tm_h = y_tm_h*dict_inflactor[df_n]\n",
    "    y_tm_m = y_tm_m*dict_inflactor[df_n]\n",
    "    y_tnm_h = y_tnm_h*dict_inflactor[df_n]\n",
    "    y_tnm_m = y_tnm_m*dict_inflactor[df_n]\n",
    "\n",
    "    y_tm_h = round(y_tm_h, ndigits = 0)\n",
    "    y_tm_m = round(y_tm_m, ndigits = 0)\n",
    "    y_tnm_h = round(y_tnm_h, ndigits = 0)\n",
    "    y_tnm_m = round(y_tnm_m, ndigits = 0)    \n",
    "    \n",
    "    row = [dict_casen_año[df_n], y_tm_h, y_tm_m, y_tnm_h, y_tnm_m]\n",
    "    return row"
   ]
  },
  {
   "cell_type": "code",
   "execution_count": 43,
   "id": "9360aa4a",
   "metadata": {},
   "outputs": [
    {
     "name": "stdout",
     "output_type": "stream",
     "text": [
      "1.0 240909.6321093083\n",
      "2.0 248892.9789774773\n"
     ]
    }
   ],
   "source": [
    "for sexo, group in df_casen_09.groupby('sexo'):\n",
    "    print(group.sexo.mean(), group.ytrabajocor.mean())"
   ]
  },
  {
   "cell_type": "markdown",
   "id": "ebc5b72c",
   "metadata": {},
   "source": [
    "### Aplicando funciones"
   ]
  },
  {
   "cell_type": "code",
   "execution_count": 33,
   "id": "7a236c73",
   "metadata": {},
   "outputs": [
    {
     "data": {
      "text/html": [
       "<div>\n",
       "<style scoped>\n",
       "    .dataframe tbody tr th:only-of-type {\n",
       "        vertical-align: middle;\n",
       "    }\n",
       "\n",
       "    .dataframe tbody tr th {\n",
       "        vertical-align: top;\n",
       "    }\n",
       "\n",
       "    .dataframe thead th {\n",
       "        text-align: right;\n",
       "    }\n",
       "</style>\n",
       "<table border=\"1\" class=\"dataframe\">\n",
       "  <thead>\n",
       "    <tr style=\"text-align: right;\">\n",
       "      <th></th>\n",
       "      <th>Año</th>\n",
       "      <th>Mediana Ingreso Trabajo Mapuche Hombre</th>\n",
       "      <th>Mediana Ingreso Trabajo Mapuche Mujer</th>\n",
       "      <th>Mediana Ingreso Trabajo No Mapuche Hombre</th>\n",
       "      <th>Mediana Ingreso Trabajo No Mapuche Mujer</th>\n",
       "    </tr>\n",
       "  </thead>\n",
       "  <tbody>\n",
       "    <tr>\n",
       "      <th>0</th>\n",
       "      <td>2009</td>\n",
       "      <td>223860.000</td>\n",
       "      <td>258300.000</td>\n",
       "      <td>284130.00</td>\n",
       "      <td>292740.000</td>\n",
       "    </tr>\n",
       "    <tr>\n",
       "      <th>1</th>\n",
       "      <td>2011</td>\n",
       "      <td>323200.000</td>\n",
       "      <td>258560.000</td>\n",
       "      <td>404000.00</td>\n",
       "      <td>323200.000</td>\n",
       "    </tr>\n",
       "    <tr>\n",
       "      <th>2</th>\n",
       "      <td>2013</td>\n",
       "      <td>386250.000</td>\n",
       "      <td>324450.000</td>\n",
       "      <td>487963.53</td>\n",
       "      <td>386250.000</td>\n",
       "    </tr>\n",
       "    <tr>\n",
       "      <th>3</th>\n",
       "      <td>2015</td>\n",
       "      <td>421800.000</td>\n",
       "      <td>345455.606</td>\n",
       "      <td>534280.00</td>\n",
       "      <td>412385.424</td>\n",
       "    </tr>\n",
       "    <tr>\n",
       "      <th>4</th>\n",
       "      <td>2017</td>\n",
       "      <td>442530.000</td>\n",
       "      <td>371568.303</td>\n",
       "      <td>536400.00</td>\n",
       "      <td>422415.000</td>\n",
       "    </tr>\n",
       "    <tr>\n",
       "      <th>5</th>\n",
       "      <td>2020</td>\n",
       "      <td>379247.505</td>\n",
       "      <td>333450.000</td>\n",
       "      <td>494000.00</td>\n",
       "      <td>370500.000</td>\n",
       "    </tr>\n",
       "  </tbody>\n",
       "</table>\n",
       "</div>"
      ],
      "text/plain": [
       "    Año  Mediana Ingreso Trabajo Mapuche Hombre  \\\n",
       "0  2009                              223860.000   \n",
       "1  2011                              323200.000   \n",
       "2  2013                              386250.000   \n",
       "3  2015                              421800.000   \n",
       "4  2017                              442530.000   \n",
       "5  2020                              379247.505   \n",
       "\n",
       "   Mediana Ingreso Trabajo Mapuche Mujer  \\\n",
       "0                             258300.000   \n",
       "1                             258560.000   \n",
       "2                             324450.000   \n",
       "3                             345455.606   \n",
       "4                             371568.303   \n",
       "5                             333450.000   \n",
       "\n",
       "   Mediana Ingreso Trabajo No Mapuche Hombre  \\\n",
       "0                                  284130.00   \n",
       "1                                  404000.00   \n",
       "2                                  487963.53   \n",
       "3                                  534280.00   \n",
       "4                                  536400.00   \n",
       "5                                  494000.00   \n",
       "\n",
       "   Mediana Ingreso Trabajo No Mapuche Mujer  \n",
       "0                                292740.000  \n",
       "1                                323200.000  \n",
       "2                                386250.000  \n",
       "3                                412385.424  \n",
       "4                                422415.000  \n",
       "5                                370500.000  "
      ]
     },
     "execution_count": 33,
     "metadata": {},
     "output_type": "execute_result"
    }
   ],
   "source": [
    "# Determinando ingreso mediano del trabajo por sexo\n",
    "data = []\n",
    "\n",
    "for df in (df_casen_09, df_casen_11, df_casen_13, df_casen_15, df_casen_17, df_casen_20):\n",
    "    row = get_median_labor_income_by_sex(df)\n",
    "    data.append(row)\n",
    "    \n",
    "col_y_median_t_by_sex = [\n",
    "    'Año', \n",
    "    'Mediana Ingreso Trabajo Mapuche Hombre',\n",
    "    'Mediana Ingreso Trabajo Mapuche Mujer', \n",
    "    'Mediana Ingreso Trabajo No Mapuche Hombre',\n",
    "    'Mediana Ingreso Trabajo No Mapuche Mujer'\n",
    "]\n",
    "\n",
    "tabla_y_median_t_by_sex = pd.DataFrame(data, columns = col_y_median_t_by_sex)\n",
    "tabla_y_median_t_by_sex"
   ]
  },
  {
   "cell_type": "code",
   "execution_count": 34,
   "id": "7661e0b6",
   "metadata": {},
   "outputs": [],
   "source": [
    "tabla_y_median_t_by_sex.to_excel('tablas/y_median_t_by_sex.xlsx')"
   ]
  },
  {
   "cell_type": "code",
   "execution_count": 35,
   "id": "2994f5cb",
   "metadata": {},
   "outputs": [
    {
     "data": {
      "text/html": [
       "<div>\n",
       "<style scoped>\n",
       "    .dataframe tbody tr th:only-of-type {\n",
       "        vertical-align: middle;\n",
       "    }\n",
       "\n",
       "    .dataframe tbody tr th {\n",
       "        vertical-align: top;\n",
       "    }\n",
       "\n",
       "    .dataframe thead th {\n",
       "        text-align: right;\n",
       "    }\n",
       "</style>\n",
       "<table border=\"1\" class=\"dataframe\">\n",
       "  <thead>\n",
       "    <tr style=\"text-align: right;\">\n",
       "      <th></th>\n",
       "      <th>Año</th>\n",
       "      <th>Mediana Ingreso Trabajo Mapuche</th>\n",
       "      <th>Mediana Ingreso Trabajo No Mapuche</th>\n",
       "    </tr>\n",
       "  </thead>\n",
       "  <tbody>\n",
       "    <tr>\n",
       "      <th>0</th>\n",
       "      <td>2009</td>\n",
       "      <td>247680.426</td>\n",
       "      <td>284266.038</td>\n",
       "    </tr>\n",
       "    <tr>\n",
       "      <th>1</th>\n",
       "      <td>2011</td>\n",
       "      <td>297344.000</td>\n",
       "      <td>371680.000</td>\n",
       "    </tr>\n",
       "    <tr>\n",
       "      <th>2</th>\n",
       "      <td>2013</td>\n",
       "      <td>339900.000</td>\n",
       "      <td>463500.000</td>\n",
       "    </tr>\n",
       "    <tr>\n",
       "      <th>3</th>\n",
       "      <td>2015</td>\n",
       "      <td>392274.000</td>\n",
       "      <td>478040.000</td>\n",
       "    </tr>\n",
       "    <tr>\n",
       "      <th>4</th>\n",
       "      <td>2017</td>\n",
       "      <td>402300.000</td>\n",
       "      <td>502875.000</td>\n",
       "    </tr>\n",
       "    <tr>\n",
       "      <th>5</th>\n",
       "      <td>2020</td>\n",
       "      <td>357121.245</td>\n",
       "      <td>440483.745</td>\n",
       "    </tr>\n",
       "  </tbody>\n",
       "</table>\n",
       "</div>"
      ],
      "text/plain": [
       "    Año  Mediana Ingreso Trabajo Mapuche  Mediana Ingreso Trabajo No Mapuche\n",
       "0  2009                       247680.426                          284266.038\n",
       "1  2011                       297344.000                          371680.000\n",
       "2  2013                       339900.000                          463500.000\n",
       "3  2015                       392274.000                          478040.000\n",
       "4  2017                       402300.000                          502875.000\n",
       "5  2020                       357121.245                          440483.745"
      ]
     },
     "execution_count": 35,
     "metadata": {},
     "output_type": "execute_result"
    }
   ],
   "source": [
    "# Determinando ingreso mediano del trabajo\n",
    "data = []\n",
    "\n",
    "for df in (df_casen_09, df_casen_11, df_casen_13, df_casen_15, df_casen_17, df_casen_20):\n",
    "    row = get_median_labor_income(df)\n",
    "    data.append(row)\n",
    "    \n",
    "col_y_median_t = [\n",
    "    'Año', \n",
    "    'Mediana Ingreso Trabajo Mapuche', \n",
    "    'Mediana Ingreso Trabajo No Mapuche',\n",
    "]\n",
    "\n",
    "tabla_y_median_t = pd.DataFrame(data, columns = col_y_median_t)\n",
    "tabla_y_median_t"
   ]
  },
  {
   "cell_type": "code",
   "execution_count": 36,
   "id": "3c3af4d3",
   "metadata": {},
   "outputs": [],
   "source": [
    "tabla_y_median_t.to_excel('tablas/y_median_t.xlsx')"
   ]
  },
  {
   "cell_type": "code",
   "execution_count": 37,
   "id": "365cbe9a",
   "metadata": {},
   "outputs": [
    {
     "data": {
      "text/html": [
       "<div>\n",
       "<style scoped>\n",
       "    .dataframe tbody tr th:only-of-type {\n",
       "        vertical-align: middle;\n",
       "    }\n",
       "\n",
       "    .dataframe tbody tr th {\n",
       "        vertical-align: top;\n",
       "    }\n",
       "\n",
       "    .dataframe thead th {\n",
       "        text-align: right;\n",
       "    }\n",
       "</style>\n",
       "<table border=\"1\" class=\"dataframe\">\n",
       "  <thead>\n",
       "    <tr style=\"text-align: right;\">\n",
       "      <th></th>\n",
       "      <th>Año</th>\n",
       "      <th>Ingreso Trabajo Mapuche Hombre</th>\n",
       "      <th>Ingreso Trabajo Mapuche Mujer</th>\n",
       "      <th>Ingreso Trabajo No Mapuche Hombre</th>\n",
       "      <th>Ingreso Trabajo No Mapuche Mujer</th>\n",
       "    </tr>\n",
       "  </thead>\n",
       "  <tbody>\n",
       "    <tr>\n",
       "      <th>0</th>\n",
       "      <td>2009</td>\n",
       "      <td>284106.0</td>\n",
       "      <td>295298.0</td>\n",
       "      <td>390975.0</td>\n",
       "      <td>403728.0</td>\n",
       "    </tr>\n",
       "    <tr>\n",
       "      <th>1</th>\n",
       "      <td>2011</td>\n",
       "      <td>438843.0</td>\n",
       "      <td>312674.0</td>\n",
       "      <td>693780.0</td>\n",
       "      <td>488490.0</td>\n",
       "    </tr>\n",
       "    <tr>\n",
       "      <th>2</th>\n",
       "      <td>2013</td>\n",
       "      <td>581055.0</td>\n",
       "      <td>375168.0</td>\n",
       "      <td>829608.0</td>\n",
       "      <td>573814.0</td>\n",
       "    </tr>\n",
       "    <tr>\n",
       "      <th>3</th>\n",
       "      <td>2015</td>\n",
       "      <td>578922.0</td>\n",
       "      <td>415080.0</td>\n",
       "      <td>841453.0</td>\n",
       "      <td>591280.0</td>\n",
       "    </tr>\n",
       "    <tr>\n",
       "      <th>4</th>\n",
       "      <td>2017</td>\n",
       "      <td>585135.0</td>\n",
       "      <td>474926.0</td>\n",
       "      <td>880427.0</td>\n",
       "      <td>653864.0</td>\n",
       "    </tr>\n",
       "    <tr>\n",
       "      <th>5</th>\n",
       "      <td>2020</td>\n",
       "      <td>497627.0</td>\n",
       "      <td>384164.0</td>\n",
       "      <td>787934.0</td>\n",
       "      <td>558558.0</td>\n",
       "    </tr>\n",
       "  </tbody>\n",
       "</table>\n",
       "</div>"
      ],
      "text/plain": [
       "    Año  Ingreso Trabajo Mapuche Hombre  Ingreso Trabajo Mapuche Mujer  \\\n",
       "0  2009                        284106.0                       295298.0   \n",
       "1  2011                        438843.0                       312674.0   \n",
       "2  2013                        581055.0                       375168.0   \n",
       "3  2015                        578922.0                       415080.0   \n",
       "4  2017                        585135.0                       474926.0   \n",
       "5  2020                        497627.0                       384164.0   \n",
       "\n",
       "   Ingreso Trabajo No Mapuche Hombre  Ingreso Trabajo No Mapuche Mujer  \n",
       "0                           390975.0                          403728.0  \n",
       "1                           693780.0                          488490.0  \n",
       "2                           829608.0                          573814.0  \n",
       "3                           841453.0                          591280.0  \n",
       "4                           880427.0                          653864.0  \n",
       "5                           787934.0                          558558.0  "
      ]
     },
     "execution_count": 37,
     "metadata": {},
     "output_type": "execute_result"
    }
   ],
   "source": [
    "# Determinando ingreso promedio del trabajo por sexo\n",
    "\n",
    "data = []\n",
    "\n",
    "for df in (df_casen_09, df_casen_11, df_casen_13, df_casen_15, df_casen_17, df_casen_20):\n",
    "    row = get_labor_income_by_sex(df)\n",
    "    data.append(row)\n",
    "    \n",
    "col_yt_by_sex = [\n",
    "    'Año', \n",
    "    'Ingreso Trabajo Mapuche Hombre',\n",
    "    'Ingreso Trabajo Mapuche Mujer',\n",
    "    'Ingreso Trabajo No Mapuche Hombre',\n",
    "    'Ingreso Trabajo No Mapuche Mujer',\n",
    "]\n",
    "\n",
    "tabla_yt_by_sex = pd.DataFrame(data, columns = col_yt_by_sex)\n",
    "tabla_yt_by_sex"
   ]
  },
  {
   "cell_type": "code",
   "execution_count": 38,
   "id": "7c5515b6",
   "metadata": {},
   "outputs": [],
   "source": [
    "tabla_yt_by_sex.to_excel('tablas/yt_by_sex.xlsx')"
   ]
  },
  {
   "cell_type": "code",
   "execution_count": null,
   "id": "08716609",
   "metadata": {},
   "outputs": [],
   "source": [
    "# Determinando ingreso promedio del trabajo\n",
    "\n",
    "data = []\n",
    "\n",
    "for df in (df_casen_09, df_casen_11, df_casen_13, df_casen_15, df_casen_17, df_casen_20):\n",
    "    row = get_labor_income(df)\n",
    "    data.append(row)\n",
    "    \n",
    "col_yt = [\n",
    "    'Año', \n",
    "    'Ingreso Trabajo Mapuche', \n",
    "    'Ingreso Trabajo No Mapuche',\n",
    "]\n",
    "\n",
    "tabla_yt = pd.DataFrame(data, columns = col_yt)\n",
    "tabla_yt"
   ]
  },
  {
   "cell_type": "code",
   "execution_count": null,
   "id": "5f7f2b88",
   "metadata": {},
   "outputs": [],
   "source": [
    "tabla_yt.to_excel('tablas/yt.xlsx')"
   ]
  },
  {
   "cell_type": "code",
   "execution_count": null,
   "id": "8502f741",
   "metadata": {},
   "outputs": [],
   "source": [
    "# Determinando número de miembros en el hogar\n",
    "\n",
    "for df in (df_casen_09, df_casen_11, df_casen_13, df_casen_15, df_casen_17, df_casen_20):\n",
    "    df['n_miembros'] = get_household_members(\n",
    "        df = df, \n",
    "        id_hogar = 'folio', \n",
    "        member_number = 'o'\n",
    "    )"
   ]
  },
  {
   "cell_type": "code",
   "execution_count": null,
   "id": "1eb712f4",
   "metadata": {},
   "outputs": [],
   "source": [
    "# Determinando hogares mapuche\n",
    "\n",
    "for df in (df_casen_09, df_casen_11, df_casen_13, df_casen_15, df_casen_17, df_casen_20):\n",
    "    df_n = [k for k,v in globals().items() if v is df][0]\n",
    "    df['hogar_mapuche'] = is_household_mapuche(\n",
    "        df = df, \n",
    "        id_hogar = 'folio', \n",
    "        member_number = 'o',\n",
    "        mapuche_variable = dict_casen_m[df_n]\n",
    "    )"
   ]
  },
  {
   "cell_type": "markdown",
   "id": "eed808a4",
   "metadata": {},
   "source": [
    "## Presentando datos"
   ]
  },
  {
   "cell_type": "markdown",
   "id": "92ed8b07",
   "metadata": {},
   "source": [
    "### ¿Cuántas personas hay?"
   ]
  },
  {
   "cell_type": "code",
   "execution_count": null,
   "id": "5edbe58c",
   "metadata": {},
   "outputs": [],
   "source": [
    "df_casen_20.expr_C2017_NM.sum()"
   ]
  },
  {
   "cell_type": "markdown",
   "id": "352fe376",
   "metadata": {},
   "source": [
    "### ¿Cuántos mapuches hay?"
   ]
  },
  {
   "cell_type": "code",
   "execution_count": null,
   "id": "3b7ebf88",
   "metadata": {
    "scrolled": true
   },
   "outputs": [],
   "source": [
    "data = []\n",
    "\n",
    "for df in (df_casen_09, df_casen_11, df_casen_13, df_casen_15, df_casen_17, df_casen_20):\n",
    "    df_n = [k for k,v in globals().items() if v is df][0]\n",
    "    df_m = df.query(f'{dict_casen_m[df_n]} == 4').copy()\n",
    "    df_año = dict_casen_año[df_n]\n",
    "    n_mapuche = df_m[dict_casen_exp[df_n]].sum()\n",
    "    pp_mapuche = round(n_mapuche/df[dict_casen_exp[df_n]].sum(), ndigits = 4)\n",
    "    row = [df_año, pp_mapuche, n_mapuche]\n",
    "    data.append(row)\n",
    "    \n",
    "col_header = ['Año', '% de población identificada como mapuche.', 'Población identificada como mapuche']\n",
    "tabla_n_mapuche = pd.DataFrame(data, columns = col_header)\n",
    "tabla_n_mapuche"
   ]
  },
  {
   "cell_type": "code",
   "execution_count": null,
   "id": "12096803",
   "metadata": {},
   "outputs": [],
   "source": [
    "'''\n",
    "print(df_casen_09.query(f'{dict_casen_m['df_casen_09']} == 4').expr_C2017_NM.sum())\n",
    "df_casen_09.expr_C2017_NM.sum()\n",
    "'''"
   ]
  },
  {
   "cell_type": "code",
   "execution_count": null,
   "id": "74498590",
   "metadata": {},
   "outputs": [],
   "source": [
    "'''\n",
    "df_casen_09m = df_casen_09.query(f'{dict_casen_m['df_casen_09']} == 4')\n",
    "'''"
   ]
  },
  {
   "cell_type": "code",
   "execution_count": null,
   "id": "c9311aaf",
   "metadata": {},
   "outputs": [],
   "source": [
    "dict_casen_m['df_casen_09']"
   ]
  },
  {
   "cell_type": "code",
   "execution_count": null,
   "id": "91dc0f65",
   "metadata": {},
   "outputs": [],
   "source": [
    "tabla_n_mapuche.to_excel('tablas/n_mapuche.xlsx')"
   ]
  },
  {
   "cell_type": "markdown",
   "id": "193f5e1f",
   "metadata": {},
   "source": [
    "### Mapuche vs. otras etnias"
   ]
  },
  {
   "cell_type": "code",
   "execution_count": null,
   "id": "d2fed453",
   "metadata": {},
   "outputs": [],
   "source": [
    "df_casen_17.groupby('r3').expr.sum()/df_casen_17.expr.sum()"
   ]
  },
  {
   "cell_type": "markdown",
   "id": "9f2391a7",
   "metadata": {},
   "source": [
    "### ¿Dónde se encuentran los mapuche?"
   ]
  },
  {
   "cell_type": "code",
   "execution_count": null,
   "id": "705861d7",
   "metadata": {},
   "outputs": [],
   "source": [
    "#Primero, se revisa el número de regiones en cada CASEN\n",
    "\n",
    "for df in (df_casen_09, df_casen_11, df_casen_13, df_casen_15, df_casen_17, df_casen_20):\n",
    "    df_n = [k for k,v in globals().items() if v is df][0]\n",
    "    print(dict_casen_año[df_n] , df['region'].unique())"
   ]
  },
  {
   "cell_type": "markdown",
   "id": "4275d424",
   "metadata": {},
   "source": [
    "#### El tema de las nuevas regiones:\n",
    "\n",
    "El 2017 se agregó la nueva región 16. ¿debería agregarla?\n",
    "\n",
    "La 16 antes pertenecía a la 8. Una alternativa es simplemente reemplazar 16 por 8 en la df_casen__17"
   ]
  },
  {
   "cell_type": "code",
   "execution_count": null,
   "id": "68851529",
   "metadata": {},
   "outputs": [],
   "source": [
    "# Arreglando región\n",
    "df_casen_17['region'] = df_casen_17.region.replace(16,8)\n",
    "df_casen_20['region'] = df_casen_20.region.replace(16,8)"
   ]
  },
  {
   "cell_type": "code",
   "execution_count": null,
   "id": "1cb32ef1",
   "metadata": {},
   "outputs": [],
   "source": [
    "# Porcentaje en la región\n",
    "\n",
    "df_region_pp_m = pd.DataFrame()\n",
    "\n",
    "for df in (df_casen_09, df_casen_11, df_casen_13, df_casen_15, df_casen_17, df_casen_20):\n",
    "    df_n = [k for k,v in globals().items() if v is df][0]  \n",
    "    mapuche_pp_region = calculate_native_percentage(df, dict_casen_m[df_n], dict_casen_exp[df_n])\n",
    "    df_region_pp_m[dict_casen_año[df_n]] = round(mapuche_pp_region, ndigits=1)"
   ]
  },
  {
   "cell_type": "code",
   "execution_count": null,
   "id": "f0fe3ade",
   "metadata": {},
   "outputs": [],
   "source": [
    "# Porcentaje en la región\n",
    "\n",
    "df_region_pp_m_pais = pd.DataFrame()\n",
    "\n",
    "for df in (df_casen_09, df_casen_11, df_casen_13, df_casen_15, df_casen_17, df_casen_20):\n",
    "    df_n = [k for k,v in globals().items() if v is df][0]  \n",
    "    mapuche_pp_region = calculate_native_percentage_country(df, dict_casen_m[df_n], dict_casen_exp[df_n])\n",
    "    df_region_pp_m_pais[dict_casen_año[df_n]] = round(mapuche_pp_region, ndigits=1)"
   ]
  },
  {
   "cell_type": "code",
   "execution_count": null,
   "id": "cdbcf9b5",
   "metadata": {},
   "outputs": [],
   "source": [
    "df_region_pp_m"
   ]
  },
  {
   "cell_type": "code",
   "execution_count": null,
   "id": "d4c4dd4a",
   "metadata": {},
   "outputs": [],
   "source": [
    "df_region_pp_m.to_excel('tablas/pp_m_region.xlsx')"
   ]
  },
  {
   "cell_type": "code",
   "execution_count": null,
   "id": "6419c0d9",
   "metadata": {},
   "outputs": [],
   "source": [
    "df_region_pp_m_pais"
   ]
  },
  {
   "cell_type": "code",
   "execution_count": null,
   "id": "a3ec459b",
   "metadata": {},
   "outputs": [],
   "source": [
    "df_region_pp_m_pais.to_excel('tablas/pp_m_pais.xlsx')"
   ]
  },
  {
   "cell_type": "code",
   "execution_count": null,
   "id": "821e5637",
   "metadata": {},
   "outputs": [],
   "source": [
    "# Obteniendo ingreso p.c. (Comparar con ingreso de la misma CASEN)\n",
    "\n",
    "# Presentando ingreso\n",
    "\n",
    "data = []\n",
    "\n",
    "for df in (df_casen_09, df_casen_11, df_casen_13, df_casen_15, df_casen_17, df_casen_20):\n",
    "    df_n = [k for k,v in globals().items() if v is df][0]\n",
    "    mean_y_m, mean_y = get_household_income(df, income = dict_casen_y[df_n], weight = dict_casen_exp[df_n])\n",
    "    row = [dict_casen_año[df_n], mean_y_m, mean_y]\n",
    "    data.append(row)\n",
    "\n",
    "col_header_y = ['Año', 'Ingreso p/c hogar mapuche', 'Ingreso p/c hogar no mapuche']\n",
    "tabla_y = pd.DataFrame(data, columns = col_header_y)\n",
    "tabla_y"
   ]
  },
  {
   "cell_type": "code",
   "execution_count": null,
   "id": "b5383eaf",
   "metadata": {},
   "outputs": [],
   "source": [
    "tabla_y.to_excel('tablas/y.xlsx')"
   ]
  },
  {
   "cell_type": "code",
   "execution_count": null,
   "id": "494cd417",
   "metadata": {},
   "outputs": [],
   "source": [
    "# Ruralidad al 2017\n",
    "\n",
    "data = []\n",
    "\n",
    "for region_, df in df_casen_17.groupby('region'):\n",
    "    df_m = df.query('r3 == 4').copy()\n",
    "    df_nm = df.query('r3 != 4').copy()\n",
    "    m_rural_pp = df_m.query('zona == 2').expr_C2017_NM.sum()/df_m.expr_C2017_NM.sum()\n",
    "    nm_rural_pp = df_nm.query('zona == 2').expr_C2017_NM.sum()/df_nm.expr_C2017_NM.sum()\n",
    "    row = [region_, m_rural_pp, nm_rural_pp]\n",
    "    data.append(row)\n",
    "\n",
    "col_header_rural_region = ['Año', 'Porcentaje mapuches rural', 'Porcentaje no mapuches rural']\n",
    "tabla_rural_region = pd.DataFrame(data, columns = col_header_rural_region)\n",
    "tabla_rural_region\n",
    "\n",
    "# O es mejor decir: \"dentro de la población rural, el x% es mapuche\"?"
   ]
  },
  {
   "cell_type": "code",
   "execution_count": null,
   "id": "6b5ea5b3",
   "metadata": {},
   "outputs": [],
   "source": [
    "tabla_rural_region.to_excel('tablas/ruralidad_m_17.xlsx')"
   ]
  },
  {
   "cell_type": "code",
   "execution_count": null,
   "id": "c2b96fe5",
   "metadata": {},
   "outputs": [],
   "source": [
    "# Rural y urbano total a través de los años."
   ]
  },
  {
   "cell_type": "markdown",
   "id": "45d5d57d",
   "metadata": {},
   "source": [
    "### Tamaño de  hogar mapuche"
   ]
  },
  {
   "cell_type": "code",
   "execution_count": null,
   "id": "1da21cf1",
   "metadata": {},
   "outputs": [],
   "source": [
    "# Obteniendo tamaño de hogar por año\n",
    "\n",
    "data = []\n",
    "\n",
    "for df in (df_casen_09, df_casen_11, df_casen_13, df_casen_15, df_casen_17, df_casen_20):\n",
    "    df_n = [k for k,v in globals().items() if v is df][0]\n",
    "    df_m = df.query('hogar_mapuche == 1').copy()\n",
    "    df_nm = df.query('hogar_mapuche == 0').copy()\n",
    "    n_miembro_m = (\n",
    "        (df_m.query('o == 1').n_miembros * df_m.query('o == 1')[dict_casen_exp[df_n]]).sum() \n",
    "        / df_m.query('o == 1')[dict_casen_exp[df_n]].sum()\n",
    "    )\n",
    "    n_miembro = (\n",
    "        (df_nm.query('o == 1').n_miembros * df_nm.query('o == 1')[dict_casen_exp[df_n]]).sum() \n",
    "        / df_nm.query('o == 1')[dict_casen_exp[df_n]].sum()\n",
    "    )\n",
    "    row = [dict_casen_año[df_n], n_miembro_m, n_miembro]\n",
    "    data.append(row)\n",
    "\n",
    "col_header_n_miembros = ['Año', 'Miembros hogar mapuche', 'Miembros hogar no mapuche']\n",
    "tabla_miembros = pd.DataFrame(data, columns = col_header_n_miembros)\n",
    "tabla_miembros"
   ]
  },
  {
   "cell_type": "code",
   "execution_count": null,
   "id": "470ba8bc",
   "metadata": {},
   "outputs": [],
   "source": [
    "tabla_miembros.to_excel('tablas/tamaño_hogar.xlsx')"
   ]
  },
  {
   "cell_type": "markdown",
   "id": "977b75d5",
   "metadata": {},
   "source": [
    "### ¿Cómo se diferencian los mapuches de la Zona Sur con los de la Región Metropolitana?\n",
    "\n",
    "Primero se debe definir cuáles son los mapuche de la zona sur. En principio quiero capturar a aquellas zonas tradicionalmente mapuche.\n",
    "\n",
    "Ok. Eligamos 9, 10 ¿11?"
   ]
  },
  {
   "cell_type": "code",
   "execution_count": null,
   "id": "b73f8492",
   "metadata": {},
   "outputs": [],
   "source": [
    "r_mt = [9, 10, 11]\n",
    "r_mnt = [13]"
   ]
  },
  {
   "cell_type": "code",
   "execution_count": null,
   "id": "af58d81a",
   "metadata": {},
   "outputs": [],
   "source": [
    "# Qué estadísticas se busca obtener?\n",
    "# Edad\n",
    "# Sexo\n",
    "# Ingreso del Hogar\n",
    "# Trabajo\n",
    "\n",
    "df_casen_20.edad"
   ]
  },
  {
   "cell_type": "code",
   "execution_count": null,
   "id": "69db720b",
   "metadata": {},
   "outputs": [],
   "source": [
    "def get_y_mt_mnt(df):\n",
    "    df_n = [k for k,v in globals().items() if v is df][0]\n",
    "    df_mt = df[df['region'].isin(r_mt)].copy()\n",
    "    df_mnt = df[df['region'].isin(r_mnt)].copy()\n",
    "    y_mt = (df_mt.query(f'{dict_casen_m[df_n]} == 4')[dict_casen_y[df_n]]*df_mt.query(f'{dict_casen_m[df_n]} == 4')[dict_casen_exp[df_n]]).sum()/df_mt.query(f'{dict_casen_m[df_n]} == 4')[dict_casen_exp[df_n]].sum()\n",
    "    y_mnt = (df_mnt.query(f'{dict_casen_m[df_n]} == 4')[dict_casen_y[df_n]]*df_mnt.query(f'{dict_casen_m[df_n]} == 4')[dict_casen_exp[df_n]]).sum()/df_mnt.query(f'{dict_casen_m[df_n]} == 4')[dict_casen_exp[df_n]].sum()\n",
    "    y_mt = y_mt*dict_inflactor[df_n]\n",
    "    y_mnt = y_mnt*dict_inflactor[df_n]\n",
    "    row = [dict_casen_año[df_n], y_mt, y_mnt]\n",
    "    return row"
   ]
  },
  {
   "cell_type": "code",
   "execution_count": null,
   "id": "4f5da6a1",
   "metadata": {},
   "outputs": [],
   "source": [
    "def get_age_mt_mnt(df):\n",
    "    df_n = [k for k,v in globals().items() if v is df][0]\n",
    "    df_mt = df[df['region'].isin(r_mt)].copy()\n",
    "    df_mnt = df[df['region'].isin(r_mnt)].copy()\n",
    "    age_mt = (df_mt.query(f'{dict_casen_m[df_n]} == 4')['edad']*df_mt.query(f'{dict_casen_m[df_n]} == 4')[dict_casen_exp[df_n]]).sum()/df_mt.query(f'{dict_casen_m[df_n]} == 4')[dict_casen_exp[df_n]].sum()\n",
    "    age_mnt = (df_mnt.query(f'{dict_casen_m[df_n]} == 4')['edad']*df_mnt.query(f'{dict_casen_m[df_n]} == 4')[dict_casen_exp[df_n]]).sum()/df_mnt.query(f'{dict_casen_m[df_n]} == 4')[dict_casen_exp[df_n]].sum()\n",
    "    row = [dict_casen_año[df_n], age_mt, age_mnt]\n",
    "    return row"
   ]
  },
  {
   "cell_type": "code",
   "execution_count": null,
   "id": "ef334bb5",
   "metadata": {},
   "outputs": [],
   "source": [
    "def get_sex_mt_mnt(df):\n",
    "    df_n = [k for k,v in globals().items() if v is df][0]\n",
    "    df_mt = df[df['region'].isin(r_mt)].copy()\n",
    "    df_mnt = df[df['region'].isin(r_mnt)].copy()\n",
    "    pp_m_mt = (len(df_mt.query(f'{dict_casen_m[df_n]} == 4').query('sexo == 2'))*df_mt.query(f'{dict_casen_m[df_n]} == 4').query('sexo == 2')[dict_casen_exp[df_n]].sum())/(len(df_mt.query(f'{dict_casen_m[df_n]} == 4'))*df_mt.query(f'{dict_casen_m[df_n]} == 4')[dict_casen_exp[df_n]].sum())\n",
    "    pp_m_mnt = (len(df_mnt.query(f'{dict_casen_m[df_n]} == 4').query('sexo == 2'))*df_mnt.query(f'{dict_casen_m[df_n]} == 4').query('sexo == 2')[dict_casen_exp[df_n]].sum())/(len(df_mnt.query(f'{dict_casen_m[df_n]} == 4'))*df_mnt.query(f'{dict_casen_m[df_n]} == 4')[dict_casen_exp[df_n]].sum())\n",
    "    row = [dict_casen_año[df_n], pp_m_mt, pp_m_mnt]\n",
    "    return row"
   ]
  },
  {
   "cell_type": "code",
   "execution_count": null,
   "id": "e48221cb",
   "metadata": {
    "scrolled": true
   },
   "outputs": [],
   "source": [
    "data = []\n",
    "\n",
    "for df in (df_casen_09, df_casen_11, df_casen_13, df_casen_15, df_casen_17, df_casen_20):\n",
    "    row = get_y_mt_mnt(df)\n",
    "    data.append(row)\n",
    "\n",
    "col_header_y_mt = ['Año', 'Ingreso hogar mapuche ZS', 'Ingreso hogar mapuche RM']\n",
    "tabla_y_mt = pd.DataFrame(data, columns = col_header_y_mt)\n",
    "tabla_y_mt"
   ]
  },
  {
   "cell_type": "code",
   "execution_count": null,
   "id": "4b226407",
   "metadata": {},
   "outputs": [],
   "source": [
    "tabla_y_mt.to_excel('tablas/y_zs_rm.xlsx')"
   ]
  },
  {
   "cell_type": "code",
   "execution_count": null,
   "id": "72eb7feb",
   "metadata": {
    "scrolled": true
   },
   "outputs": [],
   "source": [
    "data = []\n",
    "\n",
    "for df in (df_casen_09, df_casen_11, df_casen_13, df_casen_15, df_casen_17, df_casen_20):\n",
    "    row = get_age_mt_mnt(df)\n",
    "    data.append(row)\n",
    "\n",
    "col_header_y_mt = ['Año', 'Edad promedio mapuche ZS', 'Edad promedio mapuche RM']\n",
    "tabla_age_mt = pd.DataFrame(data, columns = col_header_y_mt)\n",
    "tabla_age_mt"
   ]
  },
  {
   "cell_type": "code",
   "execution_count": null,
   "id": "e27c952d",
   "metadata": {},
   "outputs": [],
   "source": [
    "tabla_age_mt.to_excel('tablas/edad_zs_rm.xlsx')"
   ]
  },
  {
   "cell_type": "code",
   "execution_count": null,
   "id": "a1d05e6d",
   "metadata": {},
   "outputs": [],
   "source": [
    "data = []\n",
    "\n",
    "for df in (df_casen_09, df_casen_11, df_casen_13, df_casen_15, df_casen_17, df_casen_20):\n",
    "    row = get_sex_mt_mnt(df)\n",
    "    data.append(row)\n",
    "\n",
    "col_header_mujeres_mt = ['Año', 'Porcentaje de mujeres entre mapuches ZS', 'Porcentaje de mujeres entre mapuches MP']\n",
    "tabla_mujeres_mt = pd.DataFrame(data, columns = col_header_mujeres_mt)\n",
    "tabla_mujeres_mt"
   ]
  },
  {
   "cell_type": "code",
   "execution_count": null,
   "id": "23abea55",
   "metadata": {},
   "outputs": [],
   "source": [
    "tabla_mujeres_mt.to_excel('tablas/mujeres_zs_rm.xlsx')"
   ]
  },
  {
   "cell_type": "markdown",
   "id": "fba74263",
   "metadata": {},
   "source": [
    "### Analizando pobreza"
   ]
  },
  {
   "cell_type": "markdown",
   "id": "88890d08",
   "metadata": {},
   "source": [
    "2009: La variable es 'corte'. 1 y 2: indigentes y pobres no indigentes. 3: No pobres\n",
    "2011: \"\". 1 y 2: pobres extremos y no extremos. 3: no pobres.\n",
    "\n",
    "¿Cuándo cambia la metodología de medición de pobreza no multidimensional? Me parece que desde el 2015.\n",
    "\n",
    "2013: ...\n",
    "\n",
    "2015: pobreza - 1 y 2: pobres extremos y no extremos. 3: no pobres. || pobreza_multi_4d/pobreza_multi_5d - 1: pobre|\n",
    "\n",
    "Ojo: ypc es el ing per cápita desde 2015 en adelante."
   ]
  },
  {
   "cell_type": "code",
   "execution_count": null,
   "id": "df69f2f1",
   "metadata": {},
   "outputs": [],
   "source": [
    "def get_poverty(df):\n",
    "    df_n = [k for k,v in globals().items() if v is df][0]\n",
    "    df_m = df.query(f'{dict_casen_m[df_n]} == 4').copy()\n",
    "    df_nm = df.query(f'{dict_casen_m[df_n]} != 4').copy()\n",
    "    m_pobres_pp = df_m.query(f'{dict_casen_pob[df_n]} == 1 or {dict_casen_pob[df_n]} == 2').expr_C2017_NM.sum()/df_m.expr_C2017_NM.sum()\n",
    "    nm_pobres_pp = df_nm.query(f'{dict_casen_pob[df_n]} == 1 or {dict_casen_pob[df_n]} == 2').expr_C2017_NM.sum()/df_nm.expr_C2017_NM.sum() \n",
    "    row = [dict_casen_año[df_n], m_pobres_pp, nm_pobres_pp]\n",
    "    return row"
   ]
  },
  {
   "cell_type": "code",
   "execution_count": null,
   "id": "76907927",
   "metadata": {},
   "outputs": [],
   "source": [
    "def get_poverty_md(df):\n",
    "    df_n = [k for k,v in globals().items() if v is df][0]\n",
    "    df_m = df.query(f'{dict_casen_m[df_n]} == 4').copy()\n",
    "    df_nm = df.query(f'{dict_casen_m[df_n]} != 4').copy()\n",
    "    m_pobres_pp_4d = df_m.query('pobreza_multi_4d == 1').expr_C2017_NM.sum()/df_m.expr_C2017_NM.sum()\n",
    "    nm_pobres_pp_4d = df_nm.query('pobreza_multi_4d == 1').expr_C2017_NM.sum()/df_nm.expr_C2017_NM.sum()\n",
    "    m_pobres_pp_5d = df_m.query('pobreza_multi_5d == 1').expr_C2017_NM.sum()/df_m.expr_C2017_NM.sum()\n",
    "    nm_pobres_pp_5d = df_nm.query('pobreza_multi_5d == 1').expr_C2017_NM.sum()/df_nm.expr_C2017_NM.sum() \n",
    "    row = [dict_casen_año[df_n], m_pobres_pp_4d, nm_pobres_pp_4d, m_pobres_pp_5d, nm_pobres_pp_5d]\n",
    "    return row"
   ]
  },
  {
   "cell_type": "code",
   "execution_count": null,
   "id": "d227ffbd",
   "metadata": {
    "scrolled": false
   },
   "outputs": [],
   "source": [
    "data = []\n",
    "\n",
    "for df in (df_casen_13, df_casen_15, df_casen_17, df_casen_20):\n",
    "    row = get_poverty(df)\n",
    "    data.append(row)\n",
    "    \n",
    "col_header_pov = ['Año', 'Pp. mapuches pobres', 'Pp. no mapuches pobres']\n",
    "tabla_pov = pd.DataFrame(data, columns = col_header_pov)\n",
    "tabla_pov"
   ]
  },
  {
   "cell_type": "code",
   "execution_count": null,
   "id": "3c178aa7",
   "metadata": {},
   "outputs": [],
   "source": [
    "tabla_pov.to_excel('tablas/pobreza.xlsx')"
   ]
  },
  {
   "cell_type": "code",
   "execution_count": null,
   "id": "23049958",
   "metadata": {
    "scrolled": true
   },
   "outputs": [],
   "source": [
    "data = []\n",
    "\n",
    "for df in (df_casen_15, df_casen_17):\n",
    "    row = get_poverty_md(df)\n",
    "    data.append(row)\n",
    "    \n",
    "col_header_pov_md = [\n",
    "    'Año', \n",
    "    'Pp. mapuches pobres 4d ', \n",
    "    'Pp. no mapuches pobres 4d', \n",
    "    'Pp. mapuches pobres 5d ', \n",
    "    'Pp. no mapuches pobres 5d'\n",
    "]\n",
    "\n",
    "tabla_pov_md = pd.DataFrame(data, columns = col_header_pov_md)\n",
    "tabla_pov_md"
   ]
  },
  {
   "cell_type": "code",
   "execution_count": null,
   "id": "bba0e743",
   "metadata": {},
   "outputs": [],
   "source": [
    "tabla_pov_md.to_excel('tablas/pobreza_md.xlsx')"
   ]
  },
  {
   "cell_type": "code",
   "execution_count": null,
   "id": "15a7ee60",
   "metadata": {},
   "outputs": [],
   "source": [
    "# Comparando por regiones en 2017\n",
    "\n",
    "data = []\n",
    "\n",
    "for region_, df in df_casen_17.groupby('region'):\n",
    "    df_m = df.query('r3 == 4').copy()\n",
    "    df_nm = df.query('r3 != 4').copy()\n",
    "    m_pobres_pp = df_m.query('pobreza == 1 or pobreza == 2').expr_C2017_NM.sum()/df_m.expr_C2017_NM.sum()\n",
    "    nm_pobres_pp = df_nm.query('pobreza == 1 or pobreza == 2').expr_C2017_NM.sum()/df_nm.expr_C2017_NM.sum()\n",
    "    row = [region_, m_pobres_pp, nm_pobres_pp]\n",
    "    data.append(row)\n",
    "\n",
    "col_header_pov_region = ['Región', 'Porcentaje mapuches pobres', 'Porcentaje no mapuches pobres']\n",
    "tabla_pov_region = pd.DataFrame(data, columns = col_header_pov_region)\n",
    "tabla_pov_region"
   ]
  },
  {
   "cell_type": "code",
   "execution_count": null,
   "id": "95d5d4d7",
   "metadata": {},
   "outputs": [],
   "source": [
    "tabla_pov_region.to_excel('tablas/pobreza_region.xlsx')"
   ]
  },
  {
   "cell_type": "code",
   "execution_count": null,
   "id": "65790a58",
   "metadata": {},
   "outputs": [],
   "source": [
    "#Ha disminuido el porcentaje de pobreza mapuche?"
   ]
  },
  {
   "cell_type": "markdown",
   "id": "99429543",
   "metadata": {},
   "source": [
    "### Calculando el número de menores por hogar"
   ]
  },
  {
   "cell_type": "code",
   "execution_count": null,
   "id": "6d1c7ac1",
   "metadata": {},
   "outputs": [],
   "source": [
    "def get_n_minor(df):\n",
    "    df['n_menores'] = df.groupby('folio')['edad'].transform(lambda x: (x < 18).sum())\n",
    "    return df['n_menores']"
   ]
  },
  {
   "cell_type": "code",
   "execution_count": null,
   "id": "02c5bbda",
   "metadata": {},
   "outputs": [],
   "source": [
    "for df in (df_casen_11, df_casen_13, df_casen_15, df_casen_17, df_casen_20):  \n",
    "    df['n_menores'] = get_n_minor(df)"
   ]
  },
  {
   "cell_type": "markdown",
   "id": "9753b78c",
   "metadata": {},
   "source": [
    "# Decomposición del Salario"
   ]
  },
  {
   "cell_type": "code",
   "execution_count": null,
   "id": "94fe79cc",
   "metadata": {},
   "outputs": [],
   "source": [
    "### Necesitamos concatenar todas las bases incorporando variables de interés.\n",
    "\n",
    "### Variables a utilizar:\n",
    "'''\n",
    "folio, o, ingreso ocupacional, edad, educacion, región, ruralidad, zona de ocupacion, sexo, mapuche, \n",
    "'''"
   ]
  },
  {
   "cell_type": "code",
   "execution_count": null,
   "id": "72119fe9",
   "metadata": {},
   "outputs": [],
   "source": [
    "# Creando variable año para cada Casen\n",
    "\n",
    "df_casen_09['año'] = 2009\n",
    "df_casen_11['año'] = 2011\n",
    "df_casen_13['año'] = 2013\n",
    "df_casen_15['año'] = 2015\n",
    "df_casen_17['año'] = 2017\n",
    "df_casen_20['año'] = 2020"
   ]
  },
  {
   "cell_type": "code",
   "execution_count": null,
   "id": "01874565",
   "metadata": {},
   "outputs": [],
   "source": [
    "df_casen_20.oficio1.value_counts"
   ]
  },
  {
   "cell_type": "code",
   "execution_count": null,
   "id": "dc4cfccf",
   "metadata": {},
   "outputs": [],
   "source": [
    "# 2009- o23: Usted trabaja como? 1: Patrón o empleador; 2: cuenta propia; 3: sector público, 4: empresa pública; 5: s. priv.\n",
    "# 6: serv. doméstico p.ad.; 7: serv. doméstivo p.af.; 8: familiar no remunerado; 9: ff.aa. y de orden\n",
    "\n",
    "# Rama 2009 no está homogeneizada con 2011.\n",
    "\n",
    "#cols_keep_09 = ['folio', 'o', 'sexo', 'edad', 'region', 'zona', 'rama', 't5', 'ytrabaj', 'nivel_educacional', 'año']\n",
    "\n",
    "# cuál es la diferencia entre rama1 y rama1_sub ?\n",
    "cols_keep_11 = ['folio', 'o', 'sexo', 'edad', 'region', 'zona', 'rama1', 'r6', 'ytrabajocor', 'nivel_educacional', 'año', 'o10', 'expr_C2017_NM', 'oficio1', 'n_menores', 'expc_full']\n",
    "cols_keep_13 = ['folio', 'o', 'sexo', 'edad', 'region', 'zona', 'rama1', 'r6', 'ytrabajocor', 'nivel_educacional', 'año', 'y2h', 'expr_C2017_NM', 'oficio1', 'n_menores', 'expc'] #ojo, rama cambia de 18 a 99\n",
    "cols_keep_15 = ['folio', 'o', 'sexo', 'edad', 'region', 'zona', 'rama1', 'r3', 'ytrabajocor', 'nivel_educacional', 'año', 'y2h', 'expr_C2017_NM', 'oficio1', 'n_menores', 'expc']\n",
    "cols_keep_17 = ['folio', 'o', 'sexo', 'edad', 'region', 'zona', 'rama1', 'r3', 'ytrabajocor', 'nivel_educacional', 'año', 'y2_hrs', 'expr_C2017_NM', 'oficio1', 'n_menores', 'expc'] #rama cmabia a 999\n",
    "cols_keep_20 = ['folio', 'o', 'sexo', 'edad', 'region', 'zona', 'rama1', 'r3', 'ytrabajocor', 'nivel_educacional', 'año', 'y2_hrs', 'expr_C2017_NM', 'oficio1', 'n_menores', 'expc'] #88 y 99"
   ]
  },
  {
   "cell_type": "code",
   "execution_count": null,
   "id": "c5b7b490",
   "metadata": {},
   "outputs": [],
   "source": [
    "dfr_casen_11 = df_casen_11[cols_keep_11].copy()\n",
    "dfr_casen_13 = df_casen_13[cols_keep_13].copy()\n",
    "dfr_casen_15 = df_casen_15[cols_keep_15].copy()\n",
    "dfr_casen_17 = df_casen_17[cols_keep_17].copy()\n",
    "dfr_casen_20 = df_casen_20[cols_keep_20].copy()"
   ]
  },
  {
   "cell_type": "code",
   "execution_count": null,
   "id": "205be31d",
   "metadata": {},
   "outputs": [],
   "source": [
    "# Llevando de horas semanales a horas mensuales en CASEN 2011\n",
    "dfr_casen_11['o10'] = dfr_casen_11['o10']*4"
   ]
  },
  {
   "cell_type": "code",
   "execution_count": null,
   "id": "6fd53bb1",
   "metadata": {},
   "outputs": [],
   "source": [
    "dfr_casen_13.columns"
   ]
  },
  {
   "cell_type": "code",
   "execution_count": null,
   "id": "fc568ad4",
   "metadata": {},
   "outputs": [],
   "source": [
    "# Unificando nombres de columna\n",
    "\n",
    "columnas_unificadas = [\n",
    "    'folio',\n",
    "    'o',\n",
    "    'sexo',\n",
    "    'edad',\n",
    "    'region',\n",
    "    'zona',\n",
    "    'rama_economica',\n",
    "    'etnia',\n",
    "    'ingreso_trabajo',\n",
    "    'nivel_educacional',\n",
    "    'año',\n",
    "    'horas_trabajadas',\n",
    "    'expansion_regional',\n",
    "    'oficio',\n",
    "    'n_menores',\n",
    "    'expansion_comunal'\n",
    "]\n",
    "\n",
    "dict_columnas_unificadas_11 = dict(zip(cols_keep_11, columnas_unificadas))\n",
    "dict_columnas_unificadas_13 = dict(zip(cols_keep_13, columnas_unificadas))\n",
    "dict_columnas_unificadas_15 = dict(zip(cols_keep_15, columnas_unificadas))\n",
    "dict_columnas_unificadas_17 = dict(zip(cols_keep_17, columnas_unificadas))\n",
    "dict_columnas_unificadas_20 = dict(zip(cols_keep_20, columnas_unificadas))"
   ]
  },
  {
   "cell_type": "code",
   "execution_count": null,
   "id": "2ecb09c8",
   "metadata": {},
   "outputs": [],
   "source": [
    "dfr_casen_11 = dfr_casen_11.rename(columns = dict_columnas_unificadas_11)\n",
    "dfr_casen_13 = dfr_casen_13.rename(columns = dict_columnas_unificadas_13)\n",
    "dfr_casen_15 = dfr_casen_15.rename(columns = dict_columnas_unificadas_15)\n",
    "dfr_casen_17 = dfr_casen_17.rename(columns = dict_columnas_unificadas_17)\n",
    "dfr_casen_20 = dfr_casen_20.rename(columns = dict_columnas_unificadas_20)"
   ]
  },
  {
   "cell_type": "code",
   "execution_count": null,
   "id": "fc07c83b",
   "metadata": {},
   "outputs": [],
   "source": [
    "# Obteniendo año\n",
    "\n",
    "dict_casenrt_año = {\n",
    "    'dfrt_casen_09': '2009',\n",
    "    'dfrt_casen_11': '2011',\n",
    "    'dfrt_casen_13': '2013',\n",
    "    'dfrt_casen_15': '2015',\n",
    "    'dfrt_casen_17': '2017',\n",
    "    'dfrt_casen_20': '2020'\n",
    "}"
   ]
  },
  {
   "cell_type": "code",
   "execution_count": null,
   "id": "4c342377",
   "metadata": {},
   "outputs": [],
   "source": [
    "# Aplicando IPC\n",
    "\n",
    "dfr_casen_11['ingreso_trabajo'] = dfr_casen_11.ingreso_trabajo*dict_inflactor['df_casen_11']\n",
    "dfr_casen_13['ingreso_trabajo'] = dfr_casen_13.ingreso_trabajo*dict_inflactor['df_casen_13']\n",
    "dfr_casen_15['ingreso_trabajo'] = dfr_casen_15.ingreso_trabajo*dict_inflactor['df_casen_15']\n",
    "dfr_casen_17['ingreso_trabajo'] = dfr_casen_17.ingreso_trabajo*dict_inflactor['df_casen_17']\n",
    "dfr_casen_20['ingreso_trabajo'] = dfr_casen_20.ingreso_trabajo*dict_inflactor['df_casen_20']"
   ]
  },
  {
   "cell_type": "code",
   "execution_count": null,
   "id": "b2890f2c",
   "metadata": {},
   "outputs": [],
   "source": [
    "for df in (df_casen_11, df_casen_13, df_casen_15, df_casen_17, df_casen_20):\n",
    "    print(df.sexo.value_counts())"
   ]
  },
  {
   "cell_type": "code",
   "execution_count": null,
   "id": "91ce3fb3",
   "metadata": {},
   "outputs": [],
   "source": [
    "# Arreglando dummy sexo: mujer = 1\n",
    "\n",
    "dfr_casen_11['sexo'] = dfr_casen_11['sexo'].replace({1: 0, 2: 1})\n",
    "dfr_casen_13['sexo'] = dfr_casen_13['sexo'].replace({1: 0, 2: 1})\n",
    "dfr_casen_15['sexo'] = dfr_casen_15['sexo'].replace({1: 0, 2: 1})\n",
    "dfr_casen_17['sexo'] = dfr_casen_17['sexo'].replace({1: 0, 2: 1})\n",
    "dfr_casen_20['sexo'] = dfr_casen_20['sexo'].replace({1: 0, 2: 1})"
   ]
  },
  {
   "cell_type": "code",
   "execution_count": null,
   "id": "93ccc80e",
   "metadata": {},
   "outputs": [],
   "source": [
    "for df in (dfr_casen_11, dfr_casen_13, dfr_casen_15, dfr_casen_17, dfr_casen_20):\n",
    "    print(df.sexo.value_counts())"
   ]
  },
  {
   "cell_type": "code",
   "execution_count": null,
   "id": "c0505777",
   "metadata": {
    "scrolled": true
   },
   "outputs": [],
   "source": [
    "for df in (df_casen_11, df_casen_13, df_casen_15, df_casen_17, df_casen_20):\n",
    "    print(df.zona.value_counts())"
   ]
  },
  {
   "cell_type": "code",
   "execution_count": null,
   "id": "c40a4472",
   "metadata": {},
   "outputs": [],
   "source": [
    "# Arreglando dummy zona: rural = 1\n",
    "\n",
    "dfr_casen_11['zona'] = dfr_casen_11['zona'].replace({1: 0, 2: 1})\n",
    "dfr_casen_13['zona'] = dfr_casen_13['zona'].replace({1: 0, 2: 1})\n",
    "dfr_casen_15['zona'] = dfr_casen_15['zona'].replace({1: 0, 2: 1})\n",
    "dfr_casen_17['zona'] = dfr_casen_17['zona'].replace({1: 0, 2: 1})\n",
    "dfr_casen_20['zona'] = dfr_casen_20['zona'].replace({1: 0, 2: 1})"
   ]
  },
  {
   "cell_type": "code",
   "execution_count": null,
   "id": "9ead7089",
   "metadata": {},
   "outputs": [],
   "source": [
    "for df in (dfr_casen_11, dfr_casen_13, dfr_casen_15, dfr_casen_17, dfr_casen_20):\n",
    "    print(df.zona.value_counts())"
   ]
  },
  {
   "cell_type": "markdown",
   "id": "866c11e0",
   "metadata": {},
   "source": [
    "### Analizando valores de Rama"
   ]
  },
  {
   "cell_type": "code",
   "execution_count": null,
   "id": "25efb4cf",
   "metadata": {},
   "outputs": [],
   "source": [
    "dfr_casen_11.oficio.value_counts()"
   ]
  },
  {
   "cell_type": "markdown",
   "id": "a9edb1d1",
   "metadata": {},
   "source": [
    "### Analizando datos no disponibles: Rama económica"
   ]
  },
  {
   "cell_type": "code",
   "execution_count": null,
   "id": "4c45855e",
   "metadata": {},
   "outputs": [],
   "source": [
    "# Analizando rama\n",
    "'''    \n",
    "for df in (dfrt_casen_11, dfrt_casen_13, dfrt_casen_15, dfrt_casen_17, dfrt_casen_20):\n",
    "    df_n = [k for k,v in globals().items() if v is df][0]\n",
    "    print(df_n)\n",
    "    #print(dict_casenrt_año[df_n])\n",
    "    #print(df.rama.value_counts())\n",
    "'''"
   ]
  },
  {
   "cell_type": "code",
   "execution_count": null,
   "id": "662d6ba9",
   "metadata": {},
   "outputs": [],
   "source": [
    "'''\n",
    "for df in (dfrt_casen_11, dfrt_casen_13, dfrt_casen_15, dfrt_casen_17, dfrt_casen_20):\n",
    "    #df_n = [k for k,v in globals().items() if v is df][0]\n",
    "    #print(df_n)\n",
    "    #print('value counts: ', df.rama_economica.value_counts())\n",
    "    print('lenght: ', len(df))\n",
    "    print('valores disponibles: ',  df.rama_economica.value_counts().sum())\n",
    "    print('nans: ', df.rama_economica.isna().sum())\n",
    "    print('% nans: ', df.rama_economica.isna().sum()/len(df))\n",
    "    '''"
   ]
  },
  {
   "cell_type": "code",
   "execution_count": null,
   "id": "627712b2",
   "metadata": {
    "scrolled": true
   },
   "outputs": [],
   "source": [
    "'''\n",
    "# 2011\n",
    "\n",
    "print('value counts: ', dfrt_casen_11.rama_economica.value_counts())\n",
    "print('lenght: ', len(dfrt_casen_11))\n",
    "print('valores disponibles: ',  dfrt_casen_11.rama_economica.value_counts().sum())\n",
    "print('nans: ', dfrt_casen_11.rama_economica.isna().sum())\n",
    "print('% nans: ', dfrt_casen_11.rama_economica.isna().sum()/len(dfrt_casen_11))\n",
    "'''"
   ]
  },
  {
   "cell_type": "code",
   "execution_count": null,
   "id": "337c368a",
   "metadata": {},
   "outputs": [],
   "source": [
    "'''\n",
    "# 2013\n",
    "\n",
    "print('value counts: ', dfrt_casen_13.rama_economica.value_counts())\n",
    "print('lenght: ', len(dfrt_casen_13))\n",
    "print('valores disponibles: ',  dfrt_casen_13.rama_economica.value_counts().sum())\n",
    "print('nans: ', dfrt_casen_13.rama_economica.isna().sum())\n",
    "print('% nans: ', dfrt_casen_13.rama_economica.isna().sum()/len(dfrt_casen_13))\n",
    "'''"
   ]
  },
  {
   "cell_type": "code",
   "execution_count": null,
   "id": "cac20d31",
   "metadata": {},
   "outputs": [],
   "source": [
    "'''\n",
    "# 2015\n",
    "\n",
    "print('value counts: ', dfrt_casen_15.rama_economica.value_counts())\n",
    "print('lenght: ', len(dfrt_casen_15))\n",
    "print('valores disponibles: ',  dfrt_casen_15.rama_economica.value_counts().sum())\n",
    "print('nans: ', dfrt_casen_15.rama_economica.isna().sum())\n",
    "print('% nans: ', dfrt_casen_15.rama_economica.isna().sum()/len(dfrt_casen_15))\n",
    "'''"
   ]
  },
  {
   "cell_type": "code",
   "execution_count": null,
   "id": "fc40f942",
   "metadata": {},
   "outputs": [],
   "source": [
    "'''\n",
    "# 2017\n",
    "\n",
    "print('value counts: ', dfrt_casen_17.rama_economica.value_counts())\n",
    "print('lenght: ', len(dfrt_casen_17))\n",
    "print('valores disponibles: ',  dfrt_casen_17.rama_economica.value_counts().sum())\n",
    "print('nans: ', dfrt_casen_17.rama_economica.isna().sum())\n",
    "print('% nans: ', dfrt_casen_17.rama_economica.isna().sum()/len(dfrt_casen_17))\n",
    "'''"
   ]
  },
  {
   "cell_type": "code",
   "execution_count": null,
   "id": "7977e10e",
   "metadata": {
    "scrolled": true
   },
   "outputs": [],
   "source": [
    "'''\n",
    "# 2020\n",
    "\n",
    "print('value counts: ', dfrt_casen_20.rama_economica.value_counts())\n",
    "print('lenght: ', len(dfrt_casen_20))\n",
    "print('valores disponibles: ',  dfrt_casen_20.rama_economica.value_counts().sum())\n",
    "print('nans: ', dfrt_casen_20.rama_economica.isna().sum())\n",
    "print('% nans: ', dfrt_casen_20.rama_economica.isna().sum()/len(dfrt_casen_20))\n",
    "'''"
   ]
  },
  {
   "cell_type": "code",
   "execution_count": null,
   "id": "06a2149e",
   "metadata": {},
   "outputs": [],
   "source": [
    "'''\n",
    "\n",
    "# 2020 whole\n",
    "\n",
    "print('value counts: ', df_casen_20.rama1.value_counts())\n",
    "print('lenght: ', len(df_casen_20))\n",
    "print('valores disponibles: ',  df_casen_20.rama1.value_counts().sum())\n",
    "print('largo dfrt: ', len(dfrt_casen_20))\n",
    "print('nans: ', df_casen_20.rama1.isna().sum())\n",
    "print('% nans: ', df_casen_20.rama1.isna().sum()/len(df_casen_20))\n",
    "'''"
   ]
  },
  {
   "cell_type": "code",
   "execution_count": null,
   "id": "1e71c4bf",
   "metadata": {},
   "outputs": [],
   "source": [
    "'''\n",
    "# 2017 whole\n",
    "\n",
    "print('value counts: ', df_casen_17.rama1.value_counts())\n",
    "print('lenght: ', len(df_casen_17))\n",
    "print('valores disponibles: ',  df_casen_17.rama1.value_counts().sum())\n",
    "print('largo dfrt: ', len(dfrt_casen_17))\n",
    "print('nans: ', df_casen_17.rama1.isna().sum())\n",
    "print('% nans: ', df_casen_17.rama1.isna().sum()/len(df_casen_17))\n",
    "'''"
   ]
  },
  {
   "cell_type": "code",
   "execution_count": null,
   "id": "83bd95aa",
   "metadata": {
    "scrolled": true
   },
   "outputs": [],
   "source": [
    "# 2015 whole\n",
    "'''\n",
    "print('value counts: ', df_casen_15.rama1.value_counts())\n",
    "print('lenght: ', len(df_casen_15))\n",
    "print('valores disponibles: ',  df_casen_15.rama1.value_counts().sum())\n",
    "print('largo dfrt: ', len(dfrt_casen_15))\n",
    "print('nans: ', df_casen_15.rama1.isna().sum())\n",
    "print('% nans: ', df_casen_15.rama1.isna().sum()/len(df_casen_15))\n",
    "'''"
   ]
  },
  {
   "cell_type": "code",
   "execution_count": null,
   "id": "00887996",
   "metadata": {},
   "outputs": [],
   "source": [
    "for df in (dfr_casen_11, dfr_casen_13, dfr_casen_15, dfr_casen_17, dfr_casen_20):\n",
    "    print(df.oficio.value_counts())\n",
    "    print(df.oficio.isna().sum())"
   ]
  },
  {
   "cell_type": "markdown",
   "id": "e86bc963",
   "metadata": {},
   "source": [
    "#### Ojo: los valores disponibles difieren entre df y dfrt, probablemente porque existen personas que entregan información de rama sin necesariamente tener ingresos mayores a cero."
   ]
  },
  {
   "cell_type": "code",
   "execution_count": null,
   "id": "e4241c6a",
   "metadata": {},
   "outputs": [],
   "source": [
    "# Homogeneizando valores de respuesta no disponibles en rama\n",
    "dfr_casen_11['rama_economica'] = dfr_casen_11.rama_economica.replace(18,99)\n",
    "dfr_casen_17['rama_economica'] = dfr_casen_17.rama_economica.replace(999,99)\n",
    "dfr_casen_20['rama_economica'] = dfr_casen_20.rama_economica.replace(999,99)"
   ]
  },
  {
   "cell_type": "code",
   "execution_count": null,
   "id": "e3ff7e04",
   "metadata": {},
   "outputs": [],
   "source": [
    "# Pasando oficio 2011 a numerico\n",
    "\n",
    "dfr_casen_11['oficio'] = pd.to_numeric(dfr_casen_11['oficio'], errors='coerce')"
   ]
  },
  {
   "cell_type": "code",
   "execution_count": null,
   "id": "451daeb7",
   "metadata": {},
   "outputs": [],
   "source": [
    "dfr_casen_17.loc[dfr_casen_17['oficio'] == 999, 'oficio'] = np.nan\n",
    "dfr_casen_20.loc[dfr_casen_20['oficio'] == 999, 'oficio'] = np.nan"
   ]
  },
  {
   "cell_type": "code",
   "execution_count": null,
   "id": "9fb785d3",
   "metadata": {},
   "outputs": [],
   "source": [
    "''' \n",
    "Homogeneizando valores de respuesta no disponibles en oficio\n",
    "dfr_casen_11['oficio'] = dfr_casen_11['oficio'].replace(regex=r'[^0-9]', value=pd.np.nan)\n",
    "dfr_casen_13['oficio'] = dfr_casen_13['oficio'].replace(regex=r'[^0-9]', value=pd.np.nan)\n",
    "dfr_casen_15['oficio'] = dfr_casen_15['oficio'].replace(regex=r'[^0-9]', value=pd.np.nan)\n",
    "dfr_casen_17['oficio'] = dfr_casen_17['oficio'].replace(regex=r'[^0-9]', value=pd.np.nan)\n",
    "dfr_casen_20['oficio'] = dfr_casen_20['oficio'].replace(regex=r'[^0-9]', value=pd.np.nan)\n",
    "'''"
   ]
  },
  {
   "cell_type": "code",
   "execution_count": null,
   "id": "619f1b02",
   "metadata": {},
   "outputs": [],
   "source": [
    "#print(dfr_casen_2.oficio.value_counts())\n",
    "#print(type(dfr_casen_11.oficio.iloc[0]))\n",
    "#dfr_casen_11.oficio"
   ]
  },
  {
   "cell_type": "markdown",
   "id": "05a3d742",
   "metadata": {},
   "source": [
    "### Analizando datos no disponibles: Sexo"
   ]
  },
  {
   "cell_type": "code",
   "execution_count": null,
   "id": "1ee79860",
   "metadata": {},
   "outputs": [],
   "source": [
    "for df in (dfr_casen_11, dfr_casen_13, dfr_casen_15, dfr_casen_17, dfr_casen_20):\n",
    "    print('lenght: ', len(df))\n",
    "    print('valores disponibles: ',  df.sexo.value_counts().sum())\n",
    "    print('nans: ', df.sexo.isna().sum())\n",
    "    print('% nans: ', df.sexo.isna().sum()/len(df))"
   ]
  },
  {
   "cell_type": "markdown",
   "id": "173fd934",
   "metadata": {},
   "source": [
    "### Analizando datos no disponibles: Edad"
   ]
  },
  {
   "cell_type": "code",
   "execution_count": null,
   "id": "3e5ddbd4",
   "metadata": {},
   "outputs": [],
   "source": [
    "for df in (dfr_casen_11, dfr_casen_13, dfr_casen_15, dfr_casen_17, dfr_casen_20):\n",
    "    print('lenght: ', len(df))\n",
    "    print('valores disponibles: ',  df.edad.value_counts().sum())\n",
    "    print('nans: ', df.edad.isna().sum())\n",
    "    print('% nans: ', df.edad.isna().sum()/len(df))"
   ]
  },
  {
   "cell_type": "markdown",
   "id": "cbbcb72c",
   "metadata": {},
   "source": [
    "### Analizando datos no disponibles: Etnia"
   ]
  },
  {
   "cell_type": "code",
   "execution_count": null,
   "id": "dcf6c393",
   "metadata": {
    "scrolled": true
   },
   "outputs": [],
   "source": [
    "for df in (dfr_casen_11, dfr_casen_13, dfr_casen_15, dfr_casen_17, dfr_casen_20):\n",
    "    print('lenght: ', len(df))\n",
    "    print('valores disponibles: ',  df.etnia.value_counts().sum())\n",
    "    print('nans: ', df.etnia.isna().sum())\n",
    "    print('% nans: ', df.etnia.isna().sum()/len(df))"
   ]
  },
  {
   "cell_type": "markdown",
   "id": "7ed49692",
   "metadata": {},
   "source": [
    "### Concatenando df's"
   ]
  },
  {
   "cell_type": "code",
   "execution_count": null,
   "id": "ae498913",
   "metadata": {},
   "outputs": [],
   "source": [
    "df_r = pd.concat([dfr_casen_11, dfr_casen_13, dfr_casen_15, dfr_casen_17, dfr_casen_20])"
   ]
  },
  {
   "cell_type": "markdown",
   "id": "2f9a7eee",
   "metadata": {},
   "source": [
    "### Obteniendo dummies"
   ]
  },
  {
   "cell_type": "code",
   "execution_count": null,
   "id": "86cf6d9e",
   "metadata": {},
   "outputs": [],
   "source": [
    "# Create dummies for each region\n",
    "dummies_region = pd.get_dummies(df_r['region'], prefix='region')\n",
    "\n",
    "# Concatenate the dummies to the original dataframe\n",
    "df_r = pd.concat([df_r, dummies_region], axis=1)"
   ]
  },
  {
   "cell_type": "code",
   "execution_count": null,
   "id": "93f5ac9b",
   "metadata": {},
   "outputs": [],
   "source": [
    "# Crear dummies para cada rama economica\n",
    "dummies_rama = pd.get_dummies(df_r['rama_economica'], prefix='rama')\n",
    "\n",
    "# Concatenate the dummies to the original dataframe\n",
    "df_r = pd.concat([df_r, dummies_rama], axis=1)"
   ]
  },
  {
   "cell_type": "code",
   "execution_count": null,
   "id": "f70a59e5",
   "metadata": {},
   "outputs": [],
   "source": [
    "# Crear dummies para cada oficio\n",
    "dummies_oficio = pd.get_dummies(df_r['oficio'], prefix='oficio')\n",
    "\n",
    "# Concatenate the dummies to the original dataframe\n",
    "df_r = pd.concat([df_r, dummies_oficio], axis=1)"
   ]
  },
  {
   "cell_type": "markdown",
   "id": "dfcda36e",
   "metadata": {},
   "source": [
    "### Obteniendo dummy mapuche."
   ]
  },
  {
   "cell_type": "code",
   "execution_count": null,
   "id": "191d6344",
   "metadata": {},
   "outputs": [],
   "source": [
    "df_r['mapuche'] = (df_r['etnia'] == 4).astype(int)"
   ]
  },
  {
   "cell_type": "code",
   "execution_count": null,
   "id": "d2a2ebb7",
   "metadata": {},
   "outputs": [],
   "source": [
    "df_r.mapuche.value_counts()"
   ]
  },
  {
   "cell_type": "markdown",
   "id": "4992656b",
   "metadata": {},
   "source": [
    "### Aplicando logaritmo a ingreso_trabajo"
   ]
  },
  {
   "cell_type": "code",
   "execution_count": null,
   "id": "bc8b262e",
   "metadata": {},
   "outputs": [],
   "source": [
    "df_r['log_ingreso_trabajo'] = np.log(df_r['ingreso_trabajo'])"
   ]
  },
  {
   "cell_type": "markdown",
   "id": "2fe7d303",
   "metadata": {},
   "source": [
    "### Quedándonos solo con ingresos de trabajo positivos y con mayores de edad"
   ]
  },
  {
   "cell_type": "code",
   "execution_count": null,
   "id": "44ee842e",
   "metadata": {},
   "outputs": [],
   "source": [
    "df_rt= df_r.query('ingreso_trabajo > 0').copy()\n",
    "df_rt= df_r.query('edad >= 18').copy()"
   ]
  },
  {
   "cell_type": "markdown",
   "id": "433c3428",
   "metadata": {},
   "source": [
    "### Arreglando nombres dummies"
   ]
  },
  {
   "cell_type": "code",
   "execution_count": null,
   "id": "513eb674",
   "metadata": {},
   "outputs": [],
   "source": [
    "df_r = df_r.rename(columns = {'sexo': 'mujer', 'zona': 'zona_rural'})"
   ]
  },
  {
   "cell_type": "markdown",
   "id": "4718b27f",
   "metadata": {},
   "source": [
    "### Últimas comparaciones"
   ]
  },
  {
   "cell_type": "code",
   "execution_count": null,
   "id": "e9cd93a6",
   "metadata": {},
   "outputs": [],
   "source": [
    "df_r.mujer.value_counts()"
   ]
  },
  {
   "cell_type": "code",
   "execution_count": null,
   "id": "b9855acb",
   "metadata": {},
   "outputs": [],
   "source": [
    "df_rt.sexo.value_counts()"
   ]
  },
  {
   "cell_type": "code",
   "execution_count": null,
   "id": "6370a9bf",
   "metadata": {},
   "outputs": [],
   "source": [
    "#Ingreso mapuche vs. no mapuche\n",
    "\n",
    "print(df_rt.query('mapuche == 1').ingreso_trabajo.mean())\n",
    "print(df_rt.query('mapuche == 0').ingreso_trabajo.mean())"
   ]
  },
  {
   "cell_type": "code",
   "execution_count": null,
   "id": "59a87282",
   "metadata": {},
   "outputs": [],
   "source": [
    "#Ingreso mujer vs. hombre\n",
    "\n",
    "print(df_r.query('mujer == 1').ingreso_trabajo.mean())\n",
    "print(df_r.query('mujer == 0').ingreso_trabajo.mean())"
   ]
  },
  {
   "cell_type": "code",
   "execution_count": null,
   "id": "0c41e60a",
   "metadata": {},
   "outputs": [],
   "source": [
    "#Ingreso zona rural vs. urbana\n",
    "\n",
    "print(df_r.query('zona_rural == 1').ingreso_trabajo.mean())\n",
    "print(df_r.query('zona_rural == 0').ingreso_trabajo.mean())"
   ]
  },
  {
   "cell_type": "code",
   "execution_count": null,
   "id": "bccfb81c",
   "metadata": {},
   "outputs": [],
   "source": [
    "df_r.oficio.value_counts()"
   ]
  },
  {
   "cell_type": "markdown",
   "id": "a7a32795",
   "metadata": {},
   "source": [
    "### Guardando bases"
   ]
  },
  {
   "cell_type": "code",
   "execution_count": null,
   "id": "fe40fd43",
   "metadata": {},
   "outputs": [],
   "source": [
    "df_r.to_stata('procesada/df_r.dta')"
   ]
  }
 ],
 "metadata": {
  "kernelspec": {
   "display_name": "Python 3",
   "language": "python",
   "name": "python3"
  },
  "language_info": {
   "codemirror_mode": {
    "name": "ipython",
    "version": 3
   },
   "file_extension": ".py",
   "mimetype": "text/x-python",
   "name": "python",
   "nbconvert_exporter": "python",
   "pygments_lexer": "ipython3",
   "version": "3.8.8"
  }
 },
 "nbformat": 4,
 "nbformat_minor": 5
}
